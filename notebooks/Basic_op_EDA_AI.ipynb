{
 "cells": [
  {
   "cell_type": "code",
   "execution_count": 37,
   "id": "8edceb10-c069-4881-a610-e665f6a92b6a",
   "metadata": {},
   "outputs": [],
   "source": [
    "import pandas as pd\n",
    "import os\n",
    "csv_directory = \"C:/Users/raman/Downloads/data/data\"  # Replace with your actual path\n"
   ]
  },
  {
   "cell_type": "code",
   "execution_count": 38,
   "id": "6eac0cf1-abd7-471f-837f-20994a0b6e17",
   "metadata": {},
   "outputs": [
    {
     "name": "stdout",
     "output_type": "stream",
     "text": [
      "CSV Files Found: ['102380_EBAY-US.csv', '10542_EBAY-US.csv', '10968_EBAY-US.csv', '11232_EBAY-US.csv', '11233_EBAY-US.csv', '116724_EBAY-US.csv', '117419_EBAY-US.csv', '117420_EBAY-US.csv', '117421_EBAY-US.csv', '117422_EBAY-US.csv', '117426_EBAY-US.csv', '12576_EBAY-US.csv', '1281_EBAY-US.csv', '155241_EBAY-US.csv', '156862_EBAY-US.csv', '170098_EBAY-US.csv', '171243_EBAY-US.csv', '172008_EBAY-US.csv', '184488_EBAY-US.csv', '19028_EBAY-US.csv', '1_EBAY-US.csv', '20444_EBAY-US.csv', '20628_EBAY-US.csv', '20710_EBAY-US.csv', '233_EBAY-US.csv', '26395_EBAY-US.csv', '293_EBAY-US.csv', '2984_EBAY-US.csv', '3252_EBAY-US.csv', '36027_EBAY-US.csv', '46782_EBAY-US.csv', '550_EBAY-US.csv', '6000_EBAY-US.csv', '619_EBAY-US.csv', '888_EBAY-US.csv']\n"
     ]
    }
   ],
   "source": [
    "# List all CSV files in the directory\n",
    "csv_files = [f for f in os.listdir(csv_directory) if f.endswith('.csv')]\n",
    "\n",
    "# Print the list of found CSV files to ensure they exist\n",
    "print(\"CSV Files Found:\", csv_files)\n"
   ]
  },
  {
   "cell_type": "code",
   "execution_count": 39,
   "id": "4d383281-3f70-48fa-8e25-ea2fd6c67b83",
   "metadata": {},
   "outputs": [
    {
     "name": "stdout",
     "output_type": "stream",
     "text": [
      "Loaded 102380_EBAY-US.csv with shape: (289, 23)\n",
      "Loaded 10542_EBAY-US.csv with shape: (800, 23)\n",
      "Loaded 10968_EBAY-US.csv with shape: (19, 23)\n",
      "Loaded 11232_EBAY-US.csv with shape: (80, 23)\n",
      "Loaded 11233_EBAY-US.csv with shape: (250, 23)\n",
      "Loaded 116724_EBAY-US.csv with shape: (843, 23)\n",
      "Loaded 117419_EBAY-US.csv with shape: (9999, 23)\n",
      "Loaded 117420_EBAY-US.csv with shape: (14, 23)\n",
      "Loaded 117421_EBAY-US.csv with shape: (2699, 23)\n",
      "Loaded 117422_EBAY-US.csv with shape: (2032, 23)\n",
      "Loaded 117426_EBAY-US.csv with shape: (1400, 23)\n",
      "Loaded 12576_EBAY-US.csv with shape: (53, 23)\n",
      "Loaded 1281_EBAY-US.csv with shape: (69, 23)\n",
      "Loaded 155241_EBAY-US.csv with shape: (1600, 23)\n",
      "Loaded 156862_EBAY-US.csv with shape: (5919, 23)\n",
      "Loaded 170098_EBAY-US.csv with shape: (10000, 23)\n",
      "Loaded 171243_EBAY-US.csv with shape: (10000, 23)\n",
      "Loaded 172008_EBAY-US.csv with shape: (2725, 23)\n",
      "Loaded 184488_EBAY-US.csv with shape: (1760, 23)\n",
      "Loaded 19028_EBAY-US.csv with shape: (3200, 23)\n",
      "Loaded 1_EBAY-US.csv with shape: (59, 23)\n",
      "Loaded 20444_EBAY-US.csv with shape: (118, 23)\n",
      "Loaded 20628_EBAY-US.csv with shape: (5644, 23)\n",
      "Loaded 20710_EBAY-US.csv with shape: (215, 23)\n",
      "Loaded 233_EBAY-US.csv with shape: (10000, 23)\n",
      "Loaded 26395_EBAY-US.csv with shape: (21, 23)\n",
      "Loaded 293_EBAY-US.csv with shape: (4794, 23)\n",
      "Loaded 2984_EBAY-US.csv with shape: (10000, 23)\n",
      "Loaded 3252_EBAY-US.csv with shape: (528, 23)\n",
      "Loaded 36027_EBAY-US.csv with shape: (1159, 23)\n",
      "Loaded 46782_EBAY-US.csv with shape: (348, 23)\n",
      "Loaded 550_EBAY-US.csv with shape: (124, 23)\n",
      "Loaded 6000_EBAY-US.csv with shape: (53, 23)\n",
      "Loaded 619_EBAY-US.csv with shape: (9987, 23)\n",
      "Loaded 888_EBAY-US.csv with shape: (188, 23)\n",
      "DataFrames concatenated successfully!\n"
     ]
    }
   ],
   "source": [
    "# Load and check each CSV file\n",
    "dataframes = []\n",
    "for file in csv_files:\n",
    "    file_path = os.path.join(csv_directory, file)\n",
    "    try:\n",
    "        df = pd.read_csv(file_path)\n",
    "        dataframes.append(df)\n",
    "        print(f\"Loaded {file} with shape: {df.shape}\")\n",
    "    except Exception as e:\n",
    "        print(f\"Error loading {file}: {e}\")\n",
    "\n",
    "# Ensure the DataFrame list is not empty\n",
    "if dataframes:\n",
    "    combined_df = pd.concat(dataframes, ignore_index=True)\n",
    "    print(\"DataFrames concatenated successfully!\")\n",
    "else:\n",
    "    print(\"No DataFrames to concatenate.\")\n"
   ]
  },
  {
   "cell_type": "code",
   "execution_count": 40,
   "id": "abceb3bd-aa6e-4d77-8e4a-153139ff66da",
   "metadata": {},
   "outputs": [
    {
     "name": "stdout",
     "output_type": "stream",
     "text": [
      "                                               Title       Item ID  Price  \\\n",
      "0  ARTLYMERS Christmas Gift Boxes with Lids, 6 Pa...  156459517297   8.72   \n",
      "1  Surprise Gift Box Explosion, Merry Christmas S...  286122796716  10.53   \n",
      "2  Surprise Gifts Box Explosion, Merry Christmas ...  196725804186   9.89   \n",
      "3  Wondershop Christmas Gift Card Holder Lot of 4...  286139697448   6.99   \n",
      "4  Christmas Holiday Foil Embossed Gift Card Hold...  186050134800  10.68   \n",
      "\n",
      "  Currency Condition    Category           Seller  Feedback Score  \\\n",
      "0      USD       New  Gift Boxes          duaapiz            1538   \n",
      "1      USD       New  Gift Boxes       ethan_coin              40   \n",
      "2      USD       New  Gift Boxes  shirley_store15              95   \n",
      "3      USD       New  Gift Boxes    windwalker256            3489   \n",
      "4      USD       New  Gift Boxes     happlyseller           68438   \n",
      "\n",
      "   Positive Feedback %  Top Rated Seller  ... Buy It Now Available  \\\n",
      "0                 99.5              True  ...                False   \n",
      "1                 95.2             False  ...                False   \n",
      "2                 92.8             False  ...                False   \n",
      "3                100.0              True  ...                False   \n",
      "4                 98.8              True  ...                False   \n",
      "\n",
      "            Start Time             End Time           Store Name  \\\n",
      "0  2024-10-15 02:25:28  2024-11-15 03:25:28              duaapiz   \n",
      "1  2024-10-23 07:59:54  2024-11-23 08:59:54           ethan_coin   \n",
      "2  2024-10-15 09:34:32  2024-11-15 10:34:32                  NaN   \n",
      "3  2024-11-01 20:15:39  2024-12-01 21:15:39                  NaN   \n",
      "4  2023-08-25 20:13:33  2024-11-25 21:13:33  Lydia's Deal Direct   \n",
      "\n",
      "                                   Store URL  \\\n",
      "0             http://stores.ebay.com/duaapiz   \n",
      "1          http://stores.ebay.com/ethan-coin   \n",
      "2                                        NaN   \n",
      "3                                        NaN   \n",
      "4  http://stores.ebay.com/Lydias-Deal-Direct   \n",
      "\n",
      "                                         Gallery URL  \\\n",
      "0  https://i.ebayimg.com/thumbs/images/g/s9oAAOSw...   \n",
      "1  https://i.ebayimg.com/thumbs/images/g/IYkAAOSw...   \n",
      "2  https://i.ebayimg.com/thumbs/images/g/42QAAOSw...   \n",
      "3  https://i.ebayimg.com/thumbs/images/g/VewAAOSw...   \n",
      "4  https://i.ebayimg.com/thumbs/images/g/MZUAAOSw...   \n",
      "\n",
      "                                     Large Image URL  \\\n",
      "0  https://i.ebayimg.com/00/s/MTIwMFgxMjAw/z/s9oA...   \n",
      "1  https://i.ebayimg.com/00/s/MTAwMFgxMDAw/z/IYkA...   \n",
      "2  https://i.ebayimg.com/00/s/ODAwWDgwMA==/z/42QA...   \n",
      "3  https://i.ebayimg.com/00/s/MTYwMFgxMjAw/z/VewA...   \n",
      "4  https://i.ebayimg.com/00/s/MTI3NlgxNTAw/z/MZUA...   \n",
      "\n",
      "                                Super Size Image URL  \\\n",
      "0  https://i.ebayimg.com/00/s/MTIwMFgxMjAw/z/s9oA...   \n",
      "1  https://i.ebayimg.com/00/s/MTAwMFgxMDAw/z/IYkA...   \n",
      "2  https://i.ebayimg.com/00/s/ODAwWDgwMA==/z/42QA...   \n",
      "3  https://i.ebayimg.com/00/s/MTYwMFgxMjAw/z/VewA...   \n",
      "4  https://i.ebayimg.com/00/s/MTI3NlgxNTAw/z/MZUA...   \n",
      "\n",
      "                                       View Item URL Marketplace  \n",
      "0  https://www.ebay.com/itm/ARTLYMERS-Christmas-G...     EBAY-US  \n",
      "1  https://www.ebay.com/itm/Surprise-Gift-Box-Exp...     EBAY-US  \n",
      "2  https://www.ebay.com/itm/Surprise-Gifts-Box-Ex...     EBAY-US  \n",
      "3  https://www.ebay.com/itm/Wondershop-Christmas-...     EBAY-US  \n",
      "4  https://www.ebay.com/itm/Christmas-Holiday-Foi...     EBAY-US  \n",
      "\n",
      "[5 rows x 23 columns]\n"
     ]
    }
   ],
   "source": [
    "# Display the first 5 rows of the DataFrame\n",
    "print(combined_df.head())\n"
   ]
  },
  {
   "cell_type": "code",
   "execution_count": 41,
   "id": "b8e6567f-90bb-4871-a6ab-c97c1b808871",
   "metadata": {},
   "outputs": [
    {
     "name": "stdout",
     "output_type": "stream",
     "text": [
      "Shape of the DataFrame: (96989, 23)\n"
     ]
    }
   ],
   "source": [
    "# Check the shape of the DataFrame\n",
    "print(\"Shape of the DataFrame:\", combined_df.shape)\n"
   ]
  },
  {
   "cell_type": "code",
   "execution_count": 42,
   "id": "2d3d2dcb-d5bc-4245-abb2-1821d7adda0b",
   "metadata": {},
   "outputs": [
    {
     "name": "stdout",
     "output_type": "stream",
     "text": [
      "Columns in the DataFrame: ['Title', 'Item ID', 'Price', 'Currency', 'Condition', 'Category', 'Seller', 'Feedback Score', 'Positive Feedback %', 'Top Rated Seller', 'Shipping Type', 'Shipping Cost', 'Listing Type', 'Buy It Now Available', 'Start Time', 'End Time', 'Store Name', 'Store URL', 'Gallery URL', 'Large Image URL', 'Super Size Image URL', 'View Item URL', 'Marketplace']\n"
     ]
    }
   ],
   "source": [
    "# List all column names\n",
    "print(\"Columns in the DataFrame:\", combined_df.columns.tolist())\n"
   ]
  },
  {
   "cell_type": "code",
   "execution_count": 43,
   "id": "bdfb0331-c142-4671-87ed-99e80513c269",
   "metadata": {},
   "outputs": [
    {
     "name": "stdout",
     "output_type": "stream",
     "text": [
      "            Item ID         Price  Feedback Score  Positive Feedback %  \\\n",
      "count  9.698900e+04  96989.000000    9.698900e+04         96989.000000   \n",
      "mean   2.738613e+11     39.940238    2.078707e+05            96.567655   \n",
      "std    8.846954e+10    143.089316    7.837496e+05            15.049096   \n",
      "min    1.113855e+11      0.010000    0.000000e+00             0.000000   \n",
      "25%    1.954178e+11      9.100000    2.320000e+02            98.400000   \n",
      "50%    2.766041e+11     17.900000    1.217000e+03            99.500000   \n",
      "75%    3.562296e+11     35.640000    8.030000e+03           100.000000   \n",
      "max    4.053319e+11   9679.000000    3.734538e+06           100.000000   \n",
      "\n",
      "       Shipping Cost  \n",
      "count   76466.000000  \n",
      "mean        2.246338  \n",
      "std         5.595454  \n",
      "min         0.000000  \n",
      "25%         0.000000  \n",
      "50%         0.000000  \n",
      "75%         1.650000  \n",
      "max       232.210000  \n"
     ]
    }
   ],
   "source": [
    "# Summary statistics of numerical columns\n",
    "print(combined_df.describe())\n"
   ]
  },
  {
   "cell_type": "code",
   "execution_count": 44,
   "id": "9290faf8-4cfd-429f-b175-8c2519a1c38e",
   "metadata": {},
   "outputs": [
    {
     "name": "stdout",
     "output_type": "stream",
     "text": [
      "Missing values in each column:\n",
      "Title                       0\n",
      "Item ID                     0\n",
      "Price                       0\n",
      "Currency                    0\n",
      "Condition                4038\n",
      "Category                    0\n",
      "Seller                      0\n",
      "Feedback Score              0\n",
      "Positive Feedback %         0\n",
      "Top Rated Seller            0\n",
      "Shipping Type               0\n",
      "Shipping Cost           20523\n",
      "Listing Type                0\n",
      "Buy It Now Available        0\n",
      "Start Time                  0\n",
      "End Time                    0\n",
      "Store Name              15676\n",
      "Store URL               15676\n",
      "Gallery URL              1041\n",
      "Large Image URL          2888\n",
      "Super Size Image URL     2888\n",
      "View Item URL               0\n",
      "Marketplace                 0\n",
      "dtype: int64\n"
     ]
    }
   ],
   "source": [
    "# Check for missing values in each column\n",
    "print(\"Missing values in each column:\")\n",
    "print(combined_df.isnull().sum())\n"
   ]
  },
  {
   "cell_type": "code",
   "execution_count": 45,
   "id": "86ab4642-26ef-4500-9bab-95219c4b019a",
   "metadata": {},
   "outputs": [
    {
     "name": "stdout",
     "output_type": "stream",
     "text": [
      "Number of duplicate rows: 20272\n"
     ]
    }
   ],
   "source": [
    "# Check for duplicate rows\n",
    "print(\"Number of duplicate rows:\", combined_df.duplicated().sum())\n"
   ]
  },
  {
   "cell_type": "code",
   "execution_count": 46,
   "id": "999b61f4-b00b-43bc-92b0-ae8c841ea516",
   "metadata": {},
   "outputs": [
    {
     "name": "stdout",
     "output_type": "stream",
     "text": [
      "Data types of columns:\n",
      "Title                    object\n",
      "Item ID                   int64\n",
      "Price                   float64\n",
      "Currency                 object\n",
      "Condition                object\n",
      "Category                 object\n",
      "Seller                   object\n",
      "Feedback Score            int64\n",
      "Positive Feedback %     float64\n",
      "Top Rated Seller           bool\n",
      "Shipping Type            object\n",
      "Shipping Cost           float64\n",
      "Listing Type             object\n",
      "Buy It Now Available       bool\n",
      "Start Time               object\n",
      "End Time                 object\n",
      "Store Name               object\n",
      "Store URL                object\n",
      "Gallery URL              object\n",
      "Large Image URL          object\n",
      "Super Size Image URL     object\n",
      "View Item URL            object\n",
      "Marketplace              object\n",
      "dtype: object\n"
     ]
    }
   ],
   "source": [
    "# Check data types of the columns\n",
    "print(\"Data types of columns:\")\n",
    "print(combined_df.dtypes)\n"
   ]
  },
  {
   "cell_type": "code",
   "execution_count": 47,
   "id": "5849f691-dec2-47ff-a846-15b7de3a3e7d",
   "metadata": {},
   "outputs": [],
   "source": [
    "# Transformation \n",
    "#Step 1 : Handling Missing values inside dataset "
   ]
  },
  {
   "cell_type": "code",
   "execution_count": 48,
   "id": "29bad090-4caf-49e6-a50d-414e236fb102",
   "metadata": {},
   "outputs": [
    {
     "name": "stdout",
     "output_type": "stream",
     "text": [
      "Title                       0\n",
      "Item ID                     0\n",
      "Price                       0\n",
      "Currency                    0\n",
      "Condition                   0\n",
      "Category                    0\n",
      "Seller                      0\n",
      "Feedback Score              0\n",
      "Positive Feedback %         0\n",
      "Top Rated Seller            0\n",
      "Shipping Type               0\n",
      "Shipping Cost           20523\n",
      "Listing Type                0\n",
      "Buy It Now Available        0\n",
      "Start Time                  0\n",
      "End Time                    0\n",
      "Store Name              15676\n",
      "Store URL                   0\n",
      "Gallery URL                 0\n",
      "Large Image URL          2888\n",
      "Super Size Image URL     2888\n",
      "View Item URL               0\n",
      "Marketplace                 0\n",
      "dtype: int64\n"
     ]
    }
   ],
   "source": [
    "# Fill missing categorical columns with 'Unknown'\n",
    "combined_df['Condition'] = combined_df['Condition'].fillna('Unknown')\n",
    "combined_df['Category'] = combined_df['Category'].fillna('Unknown')\n",
    "combined_df['Seller'] = combined_df['Seller'].fillna('Unknown')\n",
    "\n",
    "# For numerical columns, fill missing values with median or mean (for simplicity, median is used here)\n",
    "combined_df['Price'] = combined_df['Price'].fillna(combined_df['Price'].median())\n",
    "combined_df['Feedback Score'] = combined_df['Feedback Score'].fillna(combined_df['Feedback Score'].median())\n",
    "\n",
    "# For URLs, fill missing with a placeholder\n",
    "combined_df['Store URL'] = combined_df['Store URL'].fillna('No URL')\n",
    "combined_df['Gallery URL'] = combined_df['Gallery URL'].fillna('No URL')\n",
    "\n",
    "# Check missing values after imputation\n",
    "print(combined_df.isnull().sum())\n",
    "\n"
   ]
  },
  {
   "cell_type": "code",
   "execution_count": 49,
   "id": "216f24e5-a46a-4cdd-973d-288c459dcaec",
   "metadata": {},
   "outputs": [
    {
     "name": "stdout",
     "output_type": "stream",
     "text": [
      "   Price  Price Normalized  Feedback Score Feedback Score Category\n",
      "0   8.72          0.000900            1538                    High\n",
      "1  10.53          0.001087              40                     Low\n",
      "2   9.89          0.001021              95                     Low\n",
      "3   6.99          0.000721            3489                    High\n",
      "4  10.68          0.001102           68438                     NaN\n"
     ]
    }
   ],
   "source": [
    "# Normalize 'Price' using Min-Max scaling\n",
    "from sklearn.preprocessing import MinMaxScaler\n",
    "scaler = MinMaxScaler()\n",
    "\n",
    "combined_df['Price Normalized'] = scaler.fit_transform(combined_df[['Price']])\n",
    "\n",
    "# Categorize 'Feedback Score' into bins\n",
    "combined_df['Feedback Score Category'] = pd.cut(combined_df['Feedback Score'], \n",
    "                                                bins=[0, 100, 1000, 10000], \n",
    "                                                labels=['Low', 'Medium', 'High'])\n",
    "\n",
    "# Check new columns\n",
    "print(combined_df[['Price', 'Price Normalized', 'Feedback Score', 'Feedback Score Category']].head())\n"
   ]
  },
  {
   "cell_type": "code",
   "execution_count": 50,
   "id": "66447b68-a7e5-480d-96e6-f57562561de0",
   "metadata": {},
   "outputs": [
    {
     "name": "stdout",
     "output_type": "stream",
     "text": [
      "(76707, 25)\n"
     ]
    }
   ],
   "source": [
    "# Check for duplicate rows based on 'Item ID' or other key columns\n",
    "combined_df = combined_df.drop_duplicates(subset=['Item ID'])\n",
    "\n",
    "# Verify that duplicates were removed\n",
    "print(combined_df.shape)\n"
   ]
  },
  {
   "cell_type": "code",
   "execution_count": 52,
   "id": "57c6f6e4-9066-4631-bf7c-bad35a911cea",
   "metadata": {},
   "outputs": [
    {
     "name": "stdout",
     "output_type": "stream",
     "text": [
      "(66425, 25)\n"
     ]
    }
   ],
   "source": [
    "# Filter rows where 'Price' is greater than 5\n",
    "filtered_df = combined_df[combined_df['Price'] > 5]\n",
    "\n",
    "# Verify filtering\n",
    "print(filtered_df.shape)\n"
   ]
  },
  {
   "cell_type": "code",
   "execution_count": 53,
   "id": "a9b0befe-bb9d-43be-923c-edfdc6296575",
   "metadata": {},
   "outputs": [
    {
     "name": "stdout",
     "output_type": "stream",
     "text": [
      "   num__Price  cat__Condition_Good  cat__Condition_Like New  \\\n",
      "0   -0.805767                  0.0                      0.0   \n",
      "1   -0.236411                  0.0                      1.0   \n",
      "2   -0.283693                  0.0                      0.0   \n",
      "3   -0.628459                  1.0                      0.0   \n",
      "4    1.954330                  0.0                      0.0   \n",
      "\n",
      "   cat__Condition_Very Good  cat__Listing Type_AuctionWithBIN  \\\n",
      "0                       0.0                               1.0   \n",
      "1                       0.0                               0.0   \n",
      "2                       1.0                               0.0   \n",
      "3                       0.0                               0.0   \n",
      "4                       0.0                               0.0   \n",
      "\n",
      "   cat__Listing Type_FixedPrice  cat__Listing Type_StoreInventory  \\\n",
      "0                           0.0                               0.0   \n",
      "1                           1.0                               0.0   \n",
      "2                           0.0                               0.0   \n",
      "3                           0.0                               1.0   \n",
      "4                           1.0                               0.0   \n",
      "\n",
      "   cat__Shipping Type_Flat  cat__Shipping Type_Free  \n",
      "0                      0.0                      1.0  \n",
      "1                      0.0                      1.0  \n",
      "2                      0.0                      0.0  \n",
      "3                      1.0                      0.0  \n",
      "4                      0.0                      1.0  \n"
     ]
    }
   ],
   "source": [
    "import pandas as pd\n",
    "from sklearn.preprocessing import StandardScaler, OneHotEncoder\n",
    "from sklearn.compose import ColumnTransformer\n",
    "\n",
    "# Step 1: Example DataFrame (You can load your own dataset here)\n",
    "data = {\n",
    "    'Price': [3.99, 6.88, 6.64, 4.89, 18.00],\n",
    "    'Currency': ['USD', 'USD', 'USD', 'USD', 'USD'],\n",
    "    'Condition': ['Brand New', 'Like New', 'Very Good', 'Good', 'Brand New'],\n",
    "    'Top Rated Seller': [False, True, False, False, True],\n",
    "    'Category': ['Books', 'Books', 'Books', 'Books', 'Books'],\n",
    "    'Listing Type': ['AuctionWithBIN', 'FixedPrice', 'Auction', 'StoreInventory', 'FixedPrice'],\n",
    "    'Shipping Type': ['Free', 'Free', 'Calculated', 'Flat', 'Free'],\n",
    "}\n",
    "\n",
    "df = pd.DataFrame(data)\n",
    "\n",
    "# Step 2: Define the features (X) and the target (y) columns (we'll ignore target column for encoding)\n",
    "X = df.drop('Top Rated Seller', axis=1)  # Features (exclude target column)\n",
    "\n",
    "# Step 3: Define categorical and numerical columns\n",
    "cat_columns = ['Condition', 'Listing Type', 'Shipping Type', 'Currency', 'Category']  # All categorical columns\n",
    "num_columns = ['Price']  # Numerical columns\n",
    "\n",
    "# Step 4: Set up the column transformer to handle categorical and numerical data\n",
    "preprocessor = ColumnTransformer(\n",
    "    transformers=[\n",
    "        ('num', StandardScaler(), num_columns),               # Scaling for numerical columns\n",
    "        ('cat', OneHotEncoder(drop='first', handle_unknown='ignore'), cat_columns)  # Handle unseen categories\n",
    "    ],\n",
    "    remainder='passthrough'  # Keep other columns unchanged (e.g., the target 'Top Rated Seller' will be ignored here)\n",
    ")\n",
    "\n",
    "# Step 5: Transform the data\n",
    "X_transformed = preprocessor.fit_transform(X)\n",
    "\n",
    "# Convert the transformed data into a DataFrame for better readability\n",
    "transformed_df = pd.DataFrame(X_transformed, columns=preprocessor.get_feature_names_out())\n",
    "\n",
    "# Show the transformed data\n",
    "print(transformed_df.head())\n",
    "\n",
    "\n"
   ]
  },
  {
   "cell_type": "code",
   "execution_count": 54,
   "id": "08c1ef1c-4b06-405f-92df-639545331fdb",
   "metadata": {},
   "outputs": [],
   "source": [
    "# Save the transformed DataFrame\n",
    "combined_df.to_csv('transformed_data.csv', index=False)   "
   ]
  },
  {
   "cell_type": "code",
   "execution_count": null,
   "id": "6dd7d21f-a95a-4f0b-af38-b07afade10e3",
   "metadata": {},
   "outputs": [],
   "source": []
  }
 ],
 "metadata": {
  "kernelspec": {
   "display_name": "Python 3 (ipykernel)",
   "language": "python",
   "name": "python3"
  },
  "language_info": {
   "codemirror_mode": {
    "name": "ipython",
    "version": 3
   },
   "file_extension": ".py",
   "mimetype": "text/x-python",
   "name": "python",
   "nbconvert_exporter": "python",
   "pygments_lexer": "ipython3",
   "version": "3.12.3"
  }
 },
 "nbformat": 4,
 "nbformat_minor": 5
}
