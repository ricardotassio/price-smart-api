{
 "cells": [
  {
   "cell_type": "code",
   "execution_count": 1,
   "id": "0e64e9c2",
   "metadata": {},
   "outputs": [
    {
     "name": "stdout",
     "output_type": "stream",
     "text": [
      "Requirement already satisfied: ebaysdk in /Users/yangbo/anaconda3/lib/python3.11/site-packages (2.2.0)\n",
      "Requirement already satisfied: lxml in /Users/yangbo/anaconda3/lib/python3.11/site-packages (from ebaysdk) (5.2.1)\n",
      "Requirement already satisfied: requests in /Users/yangbo/anaconda3/lib/python3.11/site-packages (from ebaysdk) (2.32.2)\n",
      "Requirement already satisfied: charset-normalizer<4,>=2 in /Users/yangbo/anaconda3/lib/python3.11/site-packages (from requests->ebaysdk) (2.0.4)\n",
      "Requirement already satisfied: idna<4,>=2.5 in /Users/yangbo/anaconda3/lib/python3.11/site-packages (from requests->ebaysdk) (3.7)\n",
      "Requirement already satisfied: urllib3<3,>=1.21.1 in /Users/yangbo/anaconda3/lib/python3.11/site-packages (from requests->ebaysdk) (2.2.2)\n",
      "Requirement already satisfied: certifi>=2017.4.17 in /Users/yangbo/anaconda3/lib/python3.11/site-packages (from requests->ebaysdk) (2024.7.4)\n"
     ]
    }
   ],
   "source": [
    "!pip install ebaysdk"
   ]
  },
  {
   "cell_type": "code",
   "execution_count": 2,
   "id": "fecf2fcb",
   "metadata": {},
   "outputs": [],
   "source": [
    "from ebaysdk.finding import Connection as Finding"
   ]
  },
  {
   "cell_type": "code",
   "execution_count": null,
   "id": "b1b68561",
   "metadata": {},
   "outputs": [],
   "source": []
  },
  {
   "cell_type": "code",
   "execution_count": null,
   "id": "9e250d7b",
   "metadata": {},
   "outputs": [],
   "source": []
  },
  {
   "cell_type": "code",
   "execution_count": null,
   "id": "fe1c0a39",
   "metadata": {},
   "outputs": [],
   "source": []
  },
  {
   "cell_type": "code",
   "execution_count": null,
   "id": "f1d2926c",
   "metadata": {},
   "outputs": [],
   "source": []
  },
  {
   "cell_type": "code",
   "execution_count": null,
   "id": "2b02c8d2",
   "metadata": {},
   "outputs": [],
   "source": []
  },
  {
   "cell_type": "code",
   "execution_count": null,
   "id": "e208497e",
   "metadata": {},
   "outputs": [],
   "source": []
  },
  {
   "cell_type": "code",
   "execution_count": null,
   "id": "1393c777",
   "metadata": {},
   "outputs": [],
   "source": []
  },
  {
   "cell_type": "code",
   "execution_count": null,
   "id": "1b2f531a",
   "metadata": {},
   "outputs": [],
   "source": []
  },
  {
   "cell_type": "code",
   "execution_count": null,
   "id": "714e82ab",
   "metadata": {},
   "outputs": [],
   "source": []
  }
 ],
 "metadata": {
  "kernelspec": {
   "display_name": "Python 3 (ipykernel)",
   "language": "python",
   "name": "python3"
  },
  "language_info": {
   "codemirror_mode": {
    "name": "ipython",
    "version": 3
   },
   "file_extension": ".py",
   "mimetype": "text/x-python",
   "name": "python",
   "nbconvert_exporter": "python",
   "pygments_lexer": "ipython3",
   "version": "3.11.8"
  }
 },
 "nbformat": 4,
 "nbformat_minor": 5
}
