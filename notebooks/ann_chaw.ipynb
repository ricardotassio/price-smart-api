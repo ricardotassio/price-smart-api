{
 "cells": [
  {
   "cell_type": "markdown",
   "metadata": {},
   "source": [
    "# Artificial Neural Network"
   ]
  },
  {
   "cell_type": "markdown",
   "metadata": {},
   "source": [
    "### Importing the libraries"
   ]
  },
  {
   "cell_type": "code",
   "execution_count": 24,
   "metadata": {},
   "outputs": [],
   "source": [
    "import numpy as np\n",
    "import pandas as pd\n",
    "import tensorflow as tf"
   ]
  },
  {
   "cell_type": "code",
   "execution_count": 25,
   "metadata": {},
   "outputs": [
    {
     "data": {
      "text/plain": [
       "'2.18.0'"
      ]
     },
     "execution_count": 25,
     "metadata": {},
     "output_type": "execute_result"
    }
   ],
   "source": [
    "tf.__version__"
   ]
  },
  {
   "cell_type": "markdown",
   "metadata": {},
   "source": [
    "## Part 1 - Data Preprocessing"
   ]
  },
  {
   "cell_type": "markdown",
   "metadata": {},
   "source": [
    "### Importing the dataset"
   ]
  },
  {
   "cell_type": "code",
   "execution_count": 26,
   "metadata": {},
   "outputs": [],
   "source": [
    "df = pd.read_csv('../datasets/transformed_ebay_data.csv')"
   ]
  },
  {
   "cell_type": "code",
   "execution_count": 27,
   "metadata": {},
   "outputs": [
    {
     "name": "stdout",
     "output_type": "stream",
     "text": [
      "<class 'pandas.core.frame.DataFrame'>\n",
      "RangeIndex: 127778 entries, 0 to 127777\n",
      "Data columns (total 40 columns):\n",
      " #   Column                                                  Non-Null Count   Dtype  \n",
      "---  ------                                                  --------------   -----  \n",
      " 0   Unnamed: 0                                              127778 non-null  int64  \n",
      " 1   num__Price                                              127778 non-null  float64\n",
      " 2   num__Feedback Score                                     127778 non-null  float64\n",
      " 3   cat__Listing Type_Auction                               127778 non-null  float64\n",
      " 4   cat__Listing Type_AuctionWithBIN                        127778 non-null  float64\n",
      " 5   cat__Listing Type_FixedPrice                            127778 non-null  float64\n",
      " 6   cat__Listing Type_StoreInventory                        127778 non-null  float64\n",
      " 7   cat__Shipping Type_Calculated                           127778 non-null  float64\n",
      " 8   cat__Shipping Type_CalculatedDomesticFlatInternational  127778 non-null  float64\n",
      " 9   cat__Shipping Type_Flat                                 127778 non-null  float64\n",
      " 10  cat__Shipping Type_FlatDomesticCalculatedInternational  127778 non-null  float64\n",
      " 11  cat__Shipping Type_Free                                 127778 non-null  float64\n",
      " 12  cat__Shipping Type_FreePickup                           127778 non-null  float64\n",
      " 13  cat__Shipping Type_Freight                              127778 non-null  float64\n",
      " 14  cat__Shipping Type_NotSpecified                         127778 non-null  float64\n",
      " 15  cat__Top Rated Seller_False                             127778 non-null  float64\n",
      " 16  cat__Top Rated Seller_True                              127778 non-null  float64\n",
      " 17  cat__Condition_Acceptable                               127778 non-null  float64\n",
      " 18  cat__Condition_Brand New                                127778 non-null  float64\n",
      " 19  cat__Condition_Certified - Refurbished                  127778 non-null  float64\n",
      " 20  cat__Condition_For parts or not working                 127778 non-null  float64\n",
      " 21  cat__Condition_Good                                     127778 non-null  float64\n",
      " 22  cat__Condition_Like New                                 127778 non-null  float64\n",
      " 23  cat__Condition_New                                      127778 non-null  float64\n",
      " 24  cat__Condition_New other (see details)                  127778 non-null  float64\n",
      " 25  cat__Condition_New with box                             127778 non-null  float64\n",
      " 26  cat__Condition_New with defects                         127778 non-null  float64\n",
      " 27  cat__Condition_New with tags                            127778 non-null  float64\n",
      " 28  cat__Condition_New without box                          127778 non-null  float64\n",
      " 29  cat__Condition_New without tags                         127778 non-null  float64\n",
      " 30  cat__Condition_New – Open box                           127778 non-null  float64\n",
      " 31  cat__Condition_New/Factory Sealed                       127778 non-null  float64\n",
      " 32  cat__Condition_Open box                                 127778 non-null  float64\n",
      " 33  cat__Condition_Pre-owned                                127778 non-null  float64\n",
      " 34  cat__Condition_Ungraded                                 127778 non-null  float64\n",
      " 35  cat__Condition_Used                                     127778 non-null  float64\n",
      " 36  cat__Condition_Very Good                                127778 non-null  float64\n",
      " 37  cat__Condition_nan                                      127778 non-null  float64\n",
      " 38  remainder__Time duration                                127778 non-null  float64\n",
      " 39  remainder__Price_in_USD                                 127778 non-null  float64\n",
      "dtypes: float64(39), int64(1)\n",
      "memory usage: 39.0 MB\n",
      "None\n"
     ]
    }
   ],
   "source": [
    "# Drop unnecessary columns \n",
    "exclude_indices = list(range(38, 55)) + list(range(56, 60))\n",
    "df = df.drop(df.columns[exclude_indices], axis=1)\n",
    "print(df.info())"
   ]
  },
  {
   "cell_type": "code",
   "execution_count": 28,
   "metadata": {},
   "outputs": [],
   "source": [
    "X = df.iloc[:, 2:-2]\n",
    "y = df.iloc[:, -2]"
   ]
  },
  {
   "cell_type": "markdown",
   "metadata": {},
   "source": [
    "### Splitting the dataset into the Training set and Test set"
   ]
  },
  {
   "cell_type": "code",
   "execution_count": 29,
   "metadata": {},
   "outputs": [],
   "source": [
    "from sklearn.model_selection import train_test_split\n",
    "X_train, X_test, y_train, y_test = train_test_split(X, y, test_size = 0.2, random_state = 0)"
   ]
  },
  {
   "cell_type": "markdown",
   "metadata": {},
   "source": [
    "### Normalize the target variable using the training data\n"
   ]
  },
  {
   "cell_type": "code",
   "execution_count": 30,
   "metadata": {},
   "outputs": [],
   "source": [
    "from sklearn.preprocessing import MinMaxScaler\n",
    "scaler = MinMaxScaler()\n",
    "y_train_scaled = scaler.fit_transform(y_train.values.reshape(-1, 1))\n",
    "y_test_scaled = scaler.transform(y_test.values.reshape(-1, 1))"
   ]
  },
  {
   "cell_type": "markdown",
   "metadata": {},
   "source": [
    "### Feature Scaling"
   ]
  },
  {
   "cell_type": "code",
   "execution_count": 31,
   "metadata": {},
   "outputs": [],
   "source": [
    "from sklearn.preprocessing import StandardScaler\n",
    "sc = StandardScaler()\n",
    "X_train = sc.fit_transform(X_train)\n",
    "X_test = sc.transform(X_test)"
   ]
  },
  {
   "cell_type": "code",
   "execution_count": 32,
   "metadata": {},
   "outputs": [
    {
     "name": "stdout",
     "output_type": "stream",
     "text": [
      "[[-0.261806   -0.14133666 -0.0610034  ... -0.28120552 -0.26633986\n",
      "  -0.19641181]\n",
      " [ 3.92631008 -0.14133666 -0.0610034  ... -0.28120552  3.75460137\n",
      "  -0.19641181]\n",
      " [-0.27326746 -0.14133666 -0.0610034  ...  3.55611799 -0.26633986\n",
      "  -0.19641181]\n",
      " ...\n",
      " [-0.30282872 -0.14133666 -0.0610034  ... -0.28120552 -0.26633986\n",
      "  -0.19641181]\n",
      " [-0.2983915  -0.14133666 -0.0610034  ... -0.28120552 -0.26633986\n",
      "  -0.19641181]\n",
      " [-0.3030992  -0.14133666 -0.0610034  ... -0.28120552 -0.26633986\n",
      "  -0.19641181]]\n"
     ]
    }
   ],
   "source": [
    "print(X_train)"
   ]
  },
  {
   "cell_type": "code",
   "execution_count": 33,
   "metadata": {},
   "outputs": [
    {
     "name": "stdout",
     "output_type": "stream",
     "text": [
      "[[-0.30304674 -0.14133666 -0.0610034  ... -0.28120552 -0.26633986\n",
      "  -0.19641181]\n",
      " [-0.21667366 -0.14133666 -0.0610034  ... -0.28120552 -0.26633986\n",
      "  -0.19641181]\n",
      " [ 4.05416172 -0.14133666 -0.0610034  ... -0.28120552 -0.26633986\n",
      "  -0.19641181]\n",
      " ...\n",
      " [ 0.03222341 -0.14133666 -0.0610034  ... -0.28120552 -0.26633986\n",
      "  -0.19641181]\n",
      " [-0.30277859 -0.14133666 -0.0610034  ... -0.28120552 -0.26633986\n",
      "  -0.19641181]\n",
      " [-0.29586628 -0.14133666 -0.0610034  ... -0.28120552 -0.26633986\n",
      "  -0.19641181]]\n"
     ]
    }
   ],
   "source": [
    "print(X_test)"
   ]
  },
  {
   "cell_type": "markdown",
   "metadata": {},
   "source": [
    "## Part 2 - Building the ANN"
   ]
  },
  {
   "cell_type": "markdown",
   "metadata": {},
   "source": [
    "### Initializing the ANN"
   ]
  },
  {
   "cell_type": "code",
   "execution_count": 34,
   "metadata": {},
   "outputs": [
    {
     "name": "stderr",
     "output_type": "stream",
     "text": [
      "c:\\Users\\xnoor\\AppData\\Local\\Programs\\Python\\Python312\\Lib\\site-packages\\keras\\src\\layers\\core\\dense.py:87: UserWarning: Do not pass an `input_shape`/`input_dim` argument to a layer. When using Sequential models, prefer using an `Input(shape)` object as the first layer in the model instead.\n",
      "  super().__init__(activity_regularizer=activity_regularizer, **kwargs)\n"
     ]
    }
   ],
   "source": [
    "from tensorflow.keras.models import Sequential\n",
    "from tensorflow.keras.layers import Dense\n",
    "\n",
    "ann = Sequential([\n",
    "    Dense(64, activation='relu', input_shape=(X_train.shape[1],)),\n",
    "    Dense(32, activation='relu'),  # Optional second hidden layer\n",
    "    Dense(1)  # Single output for regression\n",
    "])"
   ]
  },
  {
   "cell_type": "markdown",
   "metadata": {},
   "source": [
    "## Part 3 - Training the ANN"
   ]
  },
  {
   "cell_type": "markdown",
   "metadata": {},
   "source": [
    "### Compiling the ANN"
   ]
  },
  {
   "cell_type": "code",
   "execution_count": 35,
   "metadata": {},
   "outputs": [],
   "source": [
    "ann.compile(optimizer='adam', loss='mse', metrics=['mae'])"
   ]
  },
  {
   "cell_type": "markdown",
   "metadata": {},
   "source": [
    "### Training the ANN on the Training set"
   ]
  },
  {
   "cell_type": "code",
   "execution_count": 36,
   "metadata": {},
   "outputs": [
    {
     "name": "stdout",
     "output_type": "stream",
     "text": [
      "Epoch 1/100\n",
      "\u001b[1m2556/2556\u001b[0m \u001b[32m━━━━━━━━━━━━━━━━━━━━\u001b[0m\u001b[37m\u001b[0m \u001b[1m5s\u001b[0m 2ms/step - loss: 0.0398 - mae: 0.0746 - val_loss: 0.0157 - val_mae: 0.0555\n",
      "Epoch 2/100\n",
      "\u001b[1m2556/2556\u001b[0m \u001b[32m━━━━━━━━━━━━━━━━━━━━\u001b[0m\u001b[37m\u001b[0m \u001b[1m4s\u001b[0m 1ms/step - loss: 0.0498 - mae: 0.0591 - val_loss: 0.0068 - val_mae: 0.0564\n",
      "Epoch 3/100\n",
      "\u001b[1m2556/2556\u001b[0m \u001b[32m━━━━━━━━━━━━━━━━━━━━\u001b[0m\u001b[37m\u001b[0m \u001b[1m4s\u001b[0m 1ms/step - loss: 0.0090 - mae: 0.0559 - val_loss: 0.0072 - val_mae: 0.0568\n",
      "Epoch 4/100\n",
      "\u001b[1m2556/2556\u001b[0m \u001b[32m━━━━━━━━━━━━━━━━━━━━\u001b[0m\u001b[37m\u001b[0m \u001b[1m4s\u001b[0m 1ms/step - loss: 0.0323 - mae: 0.0577 - val_loss: 0.0066 - val_mae: 0.0543\n",
      "Epoch 5/100\n",
      "\u001b[1m2556/2556\u001b[0m \u001b[32m━━━━━━━━━━━━━━━━━━━━\u001b[0m\u001b[37m\u001b[0m \u001b[1m4s\u001b[0m 1ms/step - loss: 0.0078 - mae: 0.0553 - val_loss: 0.0066 - val_mae: 0.0544\n",
      "Epoch 6/100\n",
      "\u001b[1m2556/2556\u001b[0m \u001b[32m━━━━━━━━━━━━━━━━━━━━\u001b[0m\u001b[37m\u001b[0m \u001b[1m3s\u001b[0m 1ms/step - loss: 0.0213 - mae: 0.0554 - val_loss: 0.0066 - val_mae: 0.0526\n",
      "Epoch 7/100\n",
      "\u001b[1m2556/2556\u001b[0m \u001b[32m━━━━━━━━━━━━━━━━━━━━\u001b[0m\u001b[37m\u001b[0m \u001b[1m3s\u001b[0m 1ms/step - loss: 0.0085 - mae: 0.0545 - val_loss: 0.0065 - val_mae: 0.0537\n",
      "Epoch 8/100\n",
      "\u001b[1m2556/2556\u001b[0m \u001b[32m━━━━━━━━━━━━━━━━━━━━\u001b[0m\u001b[37m\u001b[0m \u001b[1m3s\u001b[0m 1ms/step - loss: 0.0108 - mae: 0.0548 - val_loss: 0.0065 - val_mae: 0.0519\n",
      "Epoch 9/100\n",
      "\u001b[1m2556/2556\u001b[0m \u001b[32m━━━━━━━━━━━━━━━━━━━━\u001b[0m\u001b[37m\u001b[0m \u001b[1m3s\u001b[0m 1ms/step - loss: 0.0079 - mae: 0.0541 - val_loss: 0.0064 - val_mae: 0.0536\n",
      "Epoch 10/100\n",
      "\u001b[1m2556/2556\u001b[0m \u001b[32m━━━━━━━━━━━━━━━━━━━━\u001b[0m\u001b[37m\u001b[0m \u001b[1m3s\u001b[0m 1ms/step - loss: 0.0066 - mae: 0.0538 - val_loss: 0.0064 - val_mae: 0.0530\n",
      "Epoch 11/100\n",
      "\u001b[1m2556/2556\u001b[0m \u001b[32m━━━━━━━━━━━━━━━━━━━━\u001b[0m\u001b[37m\u001b[0m \u001b[1m3s\u001b[0m 1ms/step - loss: 0.0065 - mae: 0.0532 - val_loss: 0.0063 - val_mae: 0.0526\n",
      "Epoch 12/100\n",
      "\u001b[1m2556/2556\u001b[0m \u001b[32m━━━━━━━━━━━━━━━━━━━━\u001b[0m\u001b[37m\u001b[0m \u001b[1m4s\u001b[0m 1ms/step - loss: 0.0065 - mae: 0.0533 - val_loss: 0.0062 - val_mae: 0.0517\n",
      "Epoch 13/100\n",
      "\u001b[1m2556/2556\u001b[0m \u001b[32m━━━━━━━━━━━━━━━━━━━━\u001b[0m\u001b[37m\u001b[0m \u001b[1m3s\u001b[0m 1ms/step - loss: 0.0065 - mae: 0.0529 - val_loss: 0.0062 - val_mae: 0.0533\n",
      "Epoch 14/100\n",
      "\u001b[1m2556/2556\u001b[0m \u001b[32m━━━━━━━━━━━━━━━━━━━━\u001b[0m\u001b[37m\u001b[0m \u001b[1m3s\u001b[0m 1ms/step - loss: 0.0064 - mae: 0.0528 - val_loss: 0.0063 - val_mae: 0.0551\n",
      "Epoch 15/100\n",
      "\u001b[1m2556/2556\u001b[0m \u001b[32m━━━━━━━━━━━━━━━━━━━━\u001b[0m\u001b[37m\u001b[0m \u001b[1m3s\u001b[0m 1ms/step - loss: 0.0065 - mae: 0.0528 - val_loss: 0.0063 - val_mae: 0.0502\n",
      "Epoch 16/100\n",
      "\u001b[1m2556/2556\u001b[0m \u001b[32m━━━━━━━━━━━━━━━━━━━━\u001b[0m\u001b[37m\u001b[0m \u001b[1m3s\u001b[0m 1ms/step - loss: 0.0063 - mae: 0.0521 - val_loss: 0.0062 - val_mae: 0.0512\n",
      "Epoch 17/100\n",
      "\u001b[1m2556/2556\u001b[0m \u001b[32m━━━━━━━━━━━━━━━━━━━━\u001b[0m\u001b[37m\u001b[0m \u001b[1m4s\u001b[0m 1ms/step - loss: 0.0063 - mae: 0.0521 - val_loss: 0.0063 - val_mae: 0.0496\n",
      "Epoch 18/100\n",
      "\u001b[1m2556/2556\u001b[0m \u001b[32m━━━━━━━━━━━━━━━━━━━━\u001b[0m\u001b[37m\u001b[0m \u001b[1m4s\u001b[0m 1ms/step - loss: 0.0063 - mae: 0.0525 - val_loss: 0.0062 - val_mae: 0.0515\n",
      "Epoch 19/100\n",
      "\u001b[1m2556/2556\u001b[0m \u001b[32m━━━━━━━━━━━━━━━━━━━━\u001b[0m\u001b[37m\u001b[0m \u001b[1m3s\u001b[0m 1ms/step - loss: 0.0065 - mae: 0.0531 - val_loss: 0.0065 - val_mae: 0.0504\n",
      "Epoch 20/100\n",
      "\u001b[1m2556/2556\u001b[0m \u001b[32m━━━━━━━━━━━━━━━━━━━━\u001b[0m\u001b[37m\u001b[0m \u001b[1m3s\u001b[0m 1ms/step - loss: 0.0063 - mae: 0.0519 - val_loss: 0.0063 - val_mae: 0.0495\n",
      "Epoch 21/100\n",
      "\u001b[1m2556/2556\u001b[0m \u001b[32m━━━━━━━━━━━━━━━━━━━━\u001b[0m\u001b[37m\u001b[0m \u001b[1m3s\u001b[0m 1ms/step - loss: 0.0060 - mae: 0.0510 - val_loss: 0.0061 - val_mae: 0.0519\n",
      "Epoch 22/100\n",
      "\u001b[1m2556/2556\u001b[0m \u001b[32m━━━━━━━━━━━━━━━━━━━━\u001b[0m\u001b[37m\u001b[0m \u001b[1m3s\u001b[0m 1ms/step - loss: 0.0063 - mae: 0.0521 - val_loss: 0.0062 - val_mae: 0.0477\n",
      "Epoch 23/100\n",
      "\u001b[1m2556/2556\u001b[0m \u001b[32m━━━━━━━━━━━━━━━━━━━━\u001b[0m\u001b[37m\u001b[0m \u001b[1m3s\u001b[0m 1ms/step - loss: 0.0062 - mae: 0.0515 - val_loss: 0.0061 - val_mae: 0.0503\n",
      "Epoch 24/100\n",
      "\u001b[1m2556/2556\u001b[0m \u001b[32m━━━━━━━━━━━━━━━━━━━━\u001b[0m\u001b[37m\u001b[0m \u001b[1m3s\u001b[0m 1ms/step - loss: 0.0062 - mae: 0.0514 - val_loss: 0.0062 - val_mae: 0.0477\n",
      "Epoch 25/100\n",
      "\u001b[1m2556/2556\u001b[0m \u001b[32m━━━━━━━━━━━━━━━━━━━━\u001b[0m\u001b[37m\u001b[0m \u001b[1m3s\u001b[0m 1ms/step - loss: 0.0061 - mae: 0.0512 - val_loss: 0.0060 - val_mae: 0.0494\n",
      "Epoch 26/100\n",
      "\u001b[1m2556/2556\u001b[0m \u001b[32m━━━━━━━━━━━━━━━━━━━━\u001b[0m\u001b[37m\u001b[0m \u001b[1m4s\u001b[0m 1ms/step - loss: 0.0062 - mae: 0.0516 - val_loss: 0.0062 - val_mae: 0.0532\n",
      "Epoch 27/100\n",
      "\u001b[1m2556/2556\u001b[0m \u001b[32m━━━━━━━━━━━━━━━━━━━━\u001b[0m\u001b[37m\u001b[0m \u001b[1m3s\u001b[0m 1ms/step - loss: 0.0061 - mae: 0.0511 - val_loss: 0.0061 - val_mae: 0.0528\n",
      "Epoch 28/100\n",
      "\u001b[1m2556/2556\u001b[0m \u001b[32m━━━━━━━━━━━━━━━━━━━━\u001b[0m\u001b[37m\u001b[0m \u001b[1m3s\u001b[0m 1ms/step - loss: 0.0062 - mae: 0.0517 - val_loss: 0.0060 - val_mae: 0.0508\n",
      "Epoch 29/100\n",
      "\u001b[1m2556/2556\u001b[0m \u001b[32m━━━━━━━━━━━━━━━━━━━━\u001b[0m\u001b[37m\u001b[0m \u001b[1m4s\u001b[0m 1ms/step - loss: 0.0061 - mae: 0.0511 - val_loss: 0.0060 - val_mae: 0.0518\n",
      "Epoch 30/100\n",
      "\u001b[1m2556/2556\u001b[0m \u001b[32m━━━━━━━━━━━━━━━━━━━━\u001b[0m\u001b[37m\u001b[0m \u001b[1m4s\u001b[0m 1ms/step - loss: 0.0062 - mae: 0.0515 - val_loss: 0.0061 - val_mae: 0.0525\n",
      "Epoch 31/100\n",
      "\u001b[1m2556/2556\u001b[0m \u001b[32m━━━━━━━━━━━━━━━━━━━━\u001b[0m\u001b[37m\u001b[0m \u001b[1m3s\u001b[0m 1ms/step - loss: 0.0062 - mae: 0.0515 - val_loss: 0.0061 - val_mae: 0.0481\n",
      "Epoch 32/100\n",
      "\u001b[1m2556/2556\u001b[0m \u001b[32m━━━━━━━━━━━━━━━━━━━━\u001b[0m\u001b[37m\u001b[0m \u001b[1m4s\u001b[0m 1ms/step - loss: 0.0062 - mae: 0.0515 - val_loss: 0.0060 - val_mae: 0.0485\n",
      "Epoch 33/100\n",
      "\u001b[1m2556/2556\u001b[0m \u001b[32m━━━━━━━━━━━━━━━━━━━━\u001b[0m\u001b[37m\u001b[0m \u001b[1m3s\u001b[0m 1ms/step - loss: 0.0063 - mae: 0.0512 - val_loss: 0.0061 - val_mae: 0.0479\n",
      "Epoch 34/100\n",
      "\u001b[1m2556/2556\u001b[0m \u001b[32m━━━━━━━━━━━━━━━━━━━━\u001b[0m\u001b[37m\u001b[0m \u001b[1m3s\u001b[0m 1ms/step - loss: 0.0062 - mae: 0.0518 - val_loss: 0.0060 - val_mae: 0.0492\n",
      "Epoch 35/100\n",
      "\u001b[1m2556/2556\u001b[0m \u001b[32m━━━━━━━━━━━━━━━━━━━━\u001b[0m\u001b[37m\u001b[0m \u001b[1m3s\u001b[0m 1ms/step - loss: 0.0062 - mae: 0.0515 - val_loss: 0.0060 - val_mae: 0.0518\n",
      "Epoch 36/100\n",
      "\u001b[1m2556/2556\u001b[0m \u001b[32m━━━━━━━━━━━━━━━━━━━━\u001b[0m\u001b[37m\u001b[0m \u001b[1m4s\u001b[0m 1ms/step - loss: 0.0061 - mae: 0.0509 - val_loss: 0.0061 - val_mae: 0.0472\n",
      "Epoch 37/100\n",
      "\u001b[1m2556/2556\u001b[0m \u001b[32m━━━━━━━━━━━━━━━━━━━━\u001b[0m\u001b[37m\u001b[0m \u001b[1m4s\u001b[0m 2ms/step - loss: 0.0061 - mae: 0.0508 - val_loss: 0.0060 - val_mae: 0.0497\n",
      "Epoch 38/100\n",
      "\u001b[1m2556/2556\u001b[0m \u001b[32m━━━━━━━━━━━━━━━━━━━━\u001b[0m\u001b[37m\u001b[0m \u001b[1m4s\u001b[0m 1ms/step - loss: 0.0062 - mae: 0.0509 - val_loss: 0.0060 - val_mae: 0.0495\n",
      "Epoch 39/100\n",
      "\u001b[1m2556/2556\u001b[0m \u001b[32m━━━━━━━━━━━━━━━━━━━━\u001b[0m\u001b[37m\u001b[0m \u001b[1m3s\u001b[0m 1ms/step - loss: 0.0062 - mae: 0.0513 - val_loss: 0.0060 - val_mae: 0.0489\n",
      "Epoch 40/100\n",
      "\u001b[1m2556/2556\u001b[0m \u001b[32m━━━━━━━━━━━━━━━━━━━━\u001b[0m\u001b[37m\u001b[0m \u001b[1m3s\u001b[0m 1ms/step - loss: 0.0063 - mae: 0.0517 - val_loss: 0.0060 - val_mae: 0.0488\n",
      "Epoch 41/100\n",
      "\u001b[1m2556/2556\u001b[0m \u001b[32m━━━━━━━━━━━━━━━━━━━━\u001b[0m\u001b[37m\u001b[0m \u001b[1m3s\u001b[0m 1ms/step - loss: 0.0061 - mae: 0.0513 - val_loss: 0.0060 - val_mae: 0.0486\n",
      "Epoch 42/100\n",
      "\u001b[1m2556/2556\u001b[0m \u001b[32m━━━━━━━━━━━━━━━━━━━━\u001b[0m\u001b[37m\u001b[0m \u001b[1m4s\u001b[0m 1ms/step - loss: 0.0061 - mae: 0.0508 - val_loss: 0.0060 - val_mae: 0.0500\n",
      "Epoch 43/100\n",
      "\u001b[1m2556/2556\u001b[0m \u001b[32m━━━━━━━━━━━━━━━━━━━━\u001b[0m\u001b[37m\u001b[0m \u001b[1m4s\u001b[0m 1ms/step - loss: 0.0061 - mae: 0.0506 - val_loss: 0.0060 - val_mae: 0.0487\n",
      "Epoch 44/100\n",
      "\u001b[1m2556/2556\u001b[0m \u001b[32m━━━━━━━━━━━━━━━━━━━━\u001b[0m\u001b[37m\u001b[0m \u001b[1m3s\u001b[0m 1ms/step - loss: 0.0061 - mae: 0.0513 - val_loss: 0.0061 - val_mae: 0.0481\n",
      "Epoch 45/100\n",
      "\u001b[1m2556/2556\u001b[0m \u001b[32m━━━━━━━━━━━━━━━━━━━━\u001b[0m\u001b[37m\u001b[0m \u001b[1m3s\u001b[0m 1ms/step - loss: 0.0060 - mae: 0.0506 - val_loss: 0.0061 - val_mae: 0.0512\n",
      "Epoch 46/100\n",
      "\u001b[1m2556/2556\u001b[0m \u001b[32m━━━━━━━━━━━━━━━━━━━━\u001b[0m\u001b[37m\u001b[0m \u001b[1m3s\u001b[0m 1ms/step - loss: 0.0060 - mae: 0.0507 - val_loss: 0.0060 - val_mae: 0.0499\n",
      "Epoch 47/100\n",
      "\u001b[1m2556/2556\u001b[0m \u001b[32m━━━━━━━━━━━━━━━━━━━━\u001b[0m\u001b[37m\u001b[0m \u001b[1m3s\u001b[0m 1ms/step - loss: 0.0062 - mae: 0.0512 - val_loss: 0.0061 - val_mae: 0.0558\n",
      "Epoch 48/100\n",
      "\u001b[1m2556/2556\u001b[0m \u001b[32m━━━━━━━━━━━━━━━━━━━━\u001b[0m\u001b[37m\u001b[0m \u001b[1m3s\u001b[0m 1ms/step - loss: 0.0060 - mae: 0.0503 - val_loss: 0.0060 - val_mae: 0.0493\n",
      "Epoch 49/100\n",
      "\u001b[1m2556/2556\u001b[0m \u001b[32m━━━━━━━━━━━━━━━━━━━━\u001b[0m\u001b[37m\u001b[0m \u001b[1m3s\u001b[0m 1ms/step - loss: 0.0063 - mae: 0.0517 - val_loss: 0.0061 - val_mae: 0.0501\n",
      "Epoch 50/100\n",
      "\u001b[1m2556/2556\u001b[0m \u001b[32m━━━━━━━━━━━━━━━━━━━━\u001b[0m\u001b[37m\u001b[0m \u001b[1m3s\u001b[0m 1ms/step - loss: 0.0061 - mae: 0.0509 - val_loss: 0.0061 - val_mae: 0.0506\n",
      "Epoch 51/100\n",
      "\u001b[1m2556/2556\u001b[0m \u001b[32m━━━━━━━━━━━━━━━━━━━━\u001b[0m\u001b[37m\u001b[0m \u001b[1m3s\u001b[0m 1ms/step - loss: 0.0062 - mae: 0.0513 - val_loss: 0.0060 - val_mae: 0.0486\n",
      "Epoch 52/100\n",
      "\u001b[1m2556/2556\u001b[0m \u001b[32m━━━━━━━━━━━━━━━━━━━━\u001b[0m\u001b[37m\u001b[0m \u001b[1m3s\u001b[0m 1ms/step - loss: 0.0061 - mae: 0.0510 - val_loss: 0.0059 - val_mae: 0.0494\n",
      "Epoch 53/100\n",
      "\u001b[1m2556/2556\u001b[0m \u001b[32m━━━━━━━━━━━━━━━━━━━━\u001b[0m\u001b[37m\u001b[0m \u001b[1m3s\u001b[0m 1ms/step - loss: 0.0061 - mae: 0.0509 - val_loss: 0.0060 - val_mae: 0.0493\n",
      "Epoch 54/100\n",
      "\u001b[1m2556/2556\u001b[0m \u001b[32m━━━━━━━━━━━━━━━━━━━━\u001b[0m\u001b[37m\u001b[0m \u001b[1m3s\u001b[0m 1ms/step - loss: 0.0061 - mae: 0.0509 - val_loss: 0.0060 - val_mae: 0.0495\n",
      "Epoch 55/100\n",
      "\u001b[1m2556/2556\u001b[0m \u001b[32m━━━━━━━━━━━━━━━━━━━━\u001b[0m\u001b[37m\u001b[0m \u001b[1m3s\u001b[0m 1ms/step - loss: 0.0063 - mae: 0.0514 - val_loss: 0.0060 - val_mae: 0.0527\n",
      "Epoch 56/100\n",
      "\u001b[1m2556/2556\u001b[0m \u001b[32m━━━━━━━━━━━━━━━━━━━━\u001b[0m\u001b[37m\u001b[0m \u001b[1m3s\u001b[0m 1ms/step - loss: 0.0061 - mae: 0.0508 - val_loss: 0.0060 - val_mae: 0.0500\n",
      "Epoch 57/100\n",
      "\u001b[1m2556/2556\u001b[0m \u001b[32m━━━━━━━━━━━━━━━━━━━━\u001b[0m\u001b[37m\u001b[0m \u001b[1m3s\u001b[0m 1ms/step - loss: 0.0061 - mae: 0.0506 - val_loss: 0.0059 - val_mae: 0.0494\n",
      "Epoch 58/100\n",
      "\u001b[1m2556/2556\u001b[0m \u001b[32m━━━━━━━━━━━━━━━━━━━━\u001b[0m\u001b[37m\u001b[0m \u001b[1m3s\u001b[0m 1ms/step - loss: 0.0060 - mae: 0.0504 - val_loss: 0.0060 - val_mae: 0.0502\n",
      "Epoch 59/100\n",
      "\u001b[1m2556/2556\u001b[0m \u001b[32m━━━━━━━━━━━━━━━━━━━━\u001b[0m\u001b[37m\u001b[0m \u001b[1m3s\u001b[0m 1ms/step - loss: 0.0060 - mae: 0.0506 - val_loss: 0.0060 - val_mae: 0.0515\n",
      "Epoch 60/100\n",
      "\u001b[1m2556/2556\u001b[0m \u001b[32m━━━━━━━━━━━━━━━━━━━━\u001b[0m\u001b[37m\u001b[0m \u001b[1m3s\u001b[0m 1ms/step - loss: 0.0062 - mae: 0.0513 - val_loss: 0.0060 - val_mae: 0.0485\n",
      "Epoch 61/100\n",
      "\u001b[1m2556/2556\u001b[0m \u001b[32m━━━━━━━━━━━━━━━━━━━━\u001b[0m\u001b[37m\u001b[0m \u001b[1m3s\u001b[0m 1ms/step - loss: 0.0061 - mae: 0.0509 - val_loss: 0.0064 - val_mae: 0.0514\n",
      "Epoch 62/100\n",
      "\u001b[1m2556/2556\u001b[0m \u001b[32m━━━━━━━━━━━━━━━━━━━━\u001b[0m\u001b[37m\u001b[0m \u001b[1m3s\u001b[0m 1ms/step - loss: 0.0061 - mae: 0.0510 - val_loss: 0.0060 - val_mae: 0.0498\n",
      "Epoch 63/100\n",
      "\u001b[1m2556/2556\u001b[0m \u001b[32m━━━━━━━━━━━━━━━━━━━━\u001b[0m\u001b[37m\u001b[0m \u001b[1m3s\u001b[0m 1ms/step - loss: 0.0062 - mae: 0.0514 - val_loss: 0.0059 - val_mae: 0.0491\n",
      "Epoch 64/100\n",
      "\u001b[1m2556/2556\u001b[0m \u001b[32m━━━━━━━━━━━━━━━━━━━━\u001b[0m\u001b[37m\u001b[0m \u001b[1m3s\u001b[0m 1ms/step - loss: 0.0060 - mae: 0.0503 - val_loss: 0.0060 - val_mae: 0.0513\n",
      "Epoch 65/100\n",
      "\u001b[1m2556/2556\u001b[0m \u001b[32m━━━━━━━━━━━━━━━━━━━━\u001b[0m\u001b[37m\u001b[0m \u001b[1m3s\u001b[0m 1ms/step - loss: 0.0059 - mae: 0.0502 - val_loss: 0.0060 - val_mae: 0.0513\n",
      "Epoch 66/100\n",
      "\u001b[1m2556/2556\u001b[0m \u001b[32m━━━━━━━━━━━━━━━━━━━━\u001b[0m\u001b[37m\u001b[0m \u001b[1m3s\u001b[0m 1ms/step - loss: 0.0060 - mae: 0.0505 - val_loss: 0.0060 - val_mae: 0.0500\n",
      "Epoch 67/100\n",
      "\u001b[1m2556/2556\u001b[0m \u001b[32m━━━━━━━━━━━━━━━━━━━━\u001b[0m\u001b[37m\u001b[0m \u001b[1m4s\u001b[0m 1ms/step - loss: 0.0060 - mae: 0.0506 - val_loss: 0.0060 - val_mae: 0.0521\n"
     ]
    },
    {
     "data": {
      "text/plain": [
       "<keras.src.callbacks.history.History at 0x16d8ae56bd0>"
      ]
     },
     "execution_count": 36,
     "metadata": {},
     "output_type": "execute_result"
    }
   ],
   "source": [
    "from tensorflow.keras.callbacks import EarlyStopping\n",
    "\n",
    "early_stopping = EarlyStopping(monitor='val_loss', patience=10, restore_best_weights=True)\n",
    "ann.fit(X_train, y_train_scaled, epochs=100, batch_size=32, validation_split=0.2, callbacks=[early_stopping])"
   ]
  },
  {
   "cell_type": "code",
   "execution_count": 37,
   "metadata": {},
   "outputs": [
    {
     "data": {
      "image/png": "[encoded data removed]",
      "text/plain": [
       "<Figure size 640x480 with 1 Axes>"
      ]
     },
     "metadata": {},
     "output_type": "display_data"
    }
   ],
   "source": [
    "import matplotlib.pyplot as plt\n",
    "\n",
    "plt.plot(ann.history.history['loss'], label='Training Loss')\n",
    "plt.plot(ann.history.history['val_loss'], label='Validation Loss')\n",
    "plt.legend()\n",
    "plt.title('Training and Validation Loss')\n",
    "plt.show()"
   ]
  },
  {
   "cell_type": "markdown",
   "metadata": {},
   "source": [
    "## Part 4 - Making the predictions and evaluating the model"
   ]
  },
  {
   "cell_type": "markdown",
   "metadata": {},
   "source": [
    "### Predicting the Test set results"
   ]
  },
  {
   "cell_type": "code",
   "execution_count": 38,
   "metadata": {},
   "outputs": [
    {
     "name": "stdout",
     "output_type": "stream",
     "text": [
      "\u001b[1m799/799\u001b[0m \u001b[32m━━━━━━━━━━━━━━━━━━━━\u001b[0m\u001b[37m\u001b[0m \u001b[1m1s\u001b[0m 2ms/step\n"
     ]
    }
   ],
   "source": [
    "y_pred_scaled = ann.predict(X_test)\n",
    "y_pred = scaler.inverse_transform(y_pred_scaled)"
   ]
  },
  {
   "cell_type": "markdown",
   "metadata": {},
   "source": [
    "### Evaluating the Model Performance"
   ]
  },
  {
   "cell_type": "code",
   "execution_count": 39,
   "metadata": {},
   "outputs": [
    {
     "name": "stdout",
     "output_type": "stream",
     "text": [
      "       Actual   Predicted\n",
      "0   31.041667  174.977844\n",
      "1  122.041667  281.366852\n",
      "2   30.000000  735.522156\n",
      "3   31.041667  343.768188\n",
      "4  397.041667  461.553223\n"
     ]
    }
   ],
   "source": [
    "# Compare Predictions with Actuals\n",
    "comparison = pd.DataFrame({\n",
    "    'Actual': y_test.values if isinstance(y_test, pd.Series) else y_test,\n",
    "    'Predicted': y_pred.flatten() if isinstance(y_pred, np.ndarray) else y_pred\n",
    "})\n",
    "print(comparison.head())"
   ]
  },
  {
   "cell_type": "code",
   "execution_count": 40,
   "metadata": {},
   "outputs": [
    {
     "name": "stdout",
     "output_type": "stream",
     "text": [
      "MAE: 337.04322269701987\n",
      "RMSE: 525.0733742757444\n",
      "R²: 0.22832862919011088\n"
     ]
    }
   ],
   "source": [
    "from sklearn.metrics import r2_score, mean_absolute_error, mean_squared_error\n",
    "\n",
    "mae = mean_absolute_error(y_test, y_pred)\n",
    "rmse = np.sqrt(mean_squared_error(y_test, y_pred))\n",
    "r2 = r2_score(y_test, y_pred)\n",
    "\n",
    "print(f\"MAE: {mae}\")\n",
    "print(f\"RMSE: {rmse}\")\n",
    "print(f\"R²: {r2}\")"
   ]
  }
 ],
 "metadata": {
  "kernelspec": {
   "display_name": "Python 3",
   "language": "python",
   "name": "python3"
  },
  "language_info": {
   "codemirror_mode": {
    "name": "ipython",
    "version": 3
   },
   "file_extension": ".py",
   "mimetype": "text/x-python",
   "name": "python",
   "nbconvert_exporter": "python",
   "pygments_lexer": "ipython3",
   "version": "3.12.7"
  }
 },
 "nbformat": 4,
 "nbformat_minor": 2
}
