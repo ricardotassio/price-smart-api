{
 "cells": [
  {
   "cell_type": "code",
   "execution_count": 2,
   "id": "0f67ec82",
   "metadata": {},
   "outputs": [],
   "source": [
    "import pandas as pd\n",
    "from xgboost import DMatrix"
   ]
  },
  {
   "cell_type": "markdown",
   "id": "4e9c721b",
   "metadata": {},
   "source": [
    "# 1.Simulate an input dataset as an example."
   ]
  },
  {
   "cell_type": "code",
   "execution_count": 3,
   "id": "61138be0",
   "metadata": {},
   "outputs": [],
   "source": [
    "# Prepare the input as a dictionary\n",
    "input_data = {\n",
    "    \"Feedback Score\": [52000],\n",
    "    \"Category_Encoded\": [1500],\n",
    "    \"Feedback_Quality\": [1000],\n",
    "    \"Positive Feedback %\": [98.5],\n",
    "    \"Price_in_USD\": [25.00],\n",
    "    \"Price_Condition\": [20.000],\n",
    "    \"Is_Trusted_Seller\": [1],\n",
    "    \"Shipping Cost\": [5.00],\n",
    "    \"Cost_to_Price_Ratio\": [0.20],\n",
    "    \"Condition_Encoded\": [3],\n",
    "    \"Shipping Type_Encoded\": [1],\n",
    "    \"Store URL_flag\": [0],\n",
    "    \"Listing Type_Encoded\": [1],\n",
    "}\n",
    "# Convert the dictionary to a DataFrame\n",
    "input_df = pd.DataFrame(input_data)"
   ]
  },
  {
   "cell_type": "markdown",
   "id": "77a3ee92",
   "metadata": {},
   "source": [
    "# 2.Load the Model"
   ]
  },
  {
   "cell_type": "code",
   "execution_count": 5,
   "id": "2ad6dc14",
   "metadata": {},
   "outputs": [],
   "source": [
    "import joblib"
   ]
  },
  {
   "cell_type": "code",
   "execution_count": 6,
   "id": "f818ed49",
   "metadata": {
    "scrolled": true
   },
   "outputs": [],
   "source": [
    "model = joblib.load(\"model.pkl\")"
   ]
  },
  {
   "cell_type": "markdown",
   "id": "28d8c6cb",
   "metadata": {},
   "source": [
    "# 3.Convert DataFrame to DMatrix"
   ]
  },
  {
   "cell_type": "code",
   "execution_count": 8,
   "id": "e52c23bf",
   "metadata": {},
   "outputs": [],
   "source": [
    "import xgboost as xgb"
   ]
  },
  {
   "cell_type": "code",
   "execution_count": 9,
   "id": "7663ce6e",
   "metadata": {},
   "outputs": [],
   "source": [
    "dmatrix_input = xgb.DMatrix(input_df)"
   ]
  },
  {
   "cell_type": "code",
   "execution_count": 10,
   "id": "f221f89d",
   "metadata": {},
   "outputs": [],
   "source": [
    "# Forcast from the Model and Input data"
   ]
  },
  {
   "cell_type": "code",
   "execution_count": 11,
   "id": "6c549a53",
   "metadata": {},
   "outputs": [
    {
     "name": "stdout",
     "output_type": "stream",
     "text": [
      "[0.]\n"
     ]
    }
   ],
   "source": [
    "prediction = model.predict(dmatrix_input)\n",
    "print(prediction)"
   ]
  },
  {
   "cell_type": "markdown",
   "id": "9907d82b",
   "metadata": {},
   "source": [
    "# 4.Input Mapping"
   ]
  },
  {
   "cell_type": "markdown",
   "id": "7d7f5a3d",
   "metadata": {},
   "source": [
    "Our model's input requires numerical values, but the client provides labels. We use a mapping process to convert these labels into numerical values so the model can process them."
   ]
  },
  {
   "cell_type": "code",
   "execution_count": 12,
   "id": "3fe05aaf",
   "metadata": {},
   "outputs": [],
   "source": [
    "# (1)feature condition mapping\n",
    "Condition = {'Almost New': 0, 'Defective': 1, 'New': 2, 'Unknown': 3, 'Used': 4}"
   ]
  },
  {
   "cell_type": "code",
   "execution_count": 28,
   "id": "b57bdbe1",
   "metadata": {},
   "outputs": [],
   "source": [
    "# (2)feature Catefory mapping\n",
    "Category = {\n",
    "    '12-Volt Portable Appliances': 0,  '2D Nail Art Design': 9, '3D TV Glasses & Accessories': 10, '40K Miniatures': 11, '40K Rulebooks & Publications': 12, '40K Spare Bits & Pieces': 13, '40K Starter Sets': 14, '40K Terrain & Scenery': 15, '50p': 16, '8-Track Players': 17, 'A/V Cleaning Cloths & Brushes': 18, 'A/V Cleaning Kits': 19, 'AC/DC': 20, 'Accessories': 21, 'Accessories & Dice': 22, 'Accordions': 23, 'Acoustic Electric Guitars': 24, 'Acoustic Guitars': 25, 'Action Figures': 26, 'Action/ Adventure': 27, 'Activity Centers': 28, 'Adapters': 29, 'Adapters & Converters': 30, 'Address & Shipping Labels': 31, 'Adult & Drinking Games': 32, 'Advent Calendars': 33, 'Adventure Modules': 34, 'Advertisements': 35, 'Africa': 36, 'Agility Training': 37, 'Air Force': 38, 'Air Rifles': 39, 'American': 40, 'Ammunition Belts & Bandoliers': 41, 'Amplifier Kits': 42, 'Amplifiers & Preamps': 43, 'Animation Art': 44, 'Antennas': 45, 'Anti-Aging Products': 46, 'Antiquarian & Collectible': 47, 'Apparel': 48, 'Aromatherapy': 49, 'Art & Prints': 50, 'Art Drawings': 51, 'Art Photographs': 52, 'Art Posters': 53, 'Art Prints': 54, 'Art Sculptures': 55, 'Ashtrays': 56, 'Atmospheric Effects Fluids': 57, 'Atmospheric Effects Machines': 58, 'Audio Cables & Interconnects': 59, 'Audio Docks & Mini Speakers': 60, 'Audio Tapes': 61, 'Audio/Video Transmitters': 62, 'Autoharps & Zithers': 63,\n",
    "    'Axis & Allies': 64, 'BMW': 65, 'Baby Bibs & Burp Cloths': 66, 'Baby Books & Albums': 67, 'Baby Bottles': 68, 'Baby Boxes': 69, 'Baby Food': 70, 'Baby Gyms, Play Mats & Jigsaw Mats': 71, 'Baby Jumping Exercisers': 72, 'Baby Locks & Latches': 73, 'Baby Monitors': 74, 'Baby Picture Frames': 75, 'Baby Scales': 76, 'Baby Swings': 77, 'Baby Wipe Warmers': 78, 'Baby Wipes': 79, 'Backyard Poultry Supplies': 80, 'Badges': 81, 'Badges/ Patches/ Stickers': 82, 'Bag Tags': 83, 'Bagpipes': 84, 'Bags & Cases': 85, 'Baits & Lures': 86, 'Ball Markers': 87, 'Balls': 88, 'Banjos': 89, 'Banners & Flags': 90, 'Barbells & Attachments': 91, 'Base Layers & Thermals': 92, 'Baseball Shirts & Jerseys': 93, 'Baseball-MLB': 94, 'Baseballs': 95, 'Basketball Hoops': 96, 'Basketball-NBA': 97, 'Bass Guitars': 98, 'Bassinets': 99, 'Bassinets & Cradles': 100, 'Bath & Body Mixed Items': 101, 'Bath Bombs & Fizzies': 102, 'Bath Sets & Kits': 103, 'Bath Tub Seats & Rings': 104, 'Bath Tubs': 105, 'Bathing Accessories': 106, 'Batteries & Chargers': 107, 'Battery Chargers': 108, 'Battery Converters': 109, 'Battery Testers': 110, 'Battletech': 111, 'Beagle': 112, 'Bean-to-Cup Coffee Machines': 113, 'Bears': 114, 'Bed Pillows': 115, 'Bed Rails': 116, 'Beds': 117, 'Bedside Sleepers': 118, 'Bells & Chimes': 119, 'Birth Announcements & Cards': 120, 'Bite Sleeves & Bite Suits': 121, 'Bivvies & Tents': 122, 'Blank Diaries & Journals': 123, 'Blank Labels': 124, 'Blankets & Throws': 125, 'Blocks & Sorters': 126, 'Bluebirds': 127, 'Body Moldings & Trims': 128, 'Body Soaps': 129, 'Body Sprays & Mists': 130, 'Body Washes & Shower Gels': 131, 'Bookends': 132, 'Bookmarks': 133, 'Books': 134, 'Books & Albums': 135, 'Booster Chairs': 136, 'Booster to 80lbs': 137, 'Boston Terrier': 138, 'Bottle & Food Warmers': 139, 'Bottle Bags': 140, 'Bottle Brushes': 141, \n",
    "    'Bottle Drying Racks': 142, 'Bottle Nipples': 143, 'Bottle Sterilizers': 144, 'Bottles': 145, 'Bouncers & Vibrating Chairs': 146, 'Bowls': 147, 'Bowls & Plates': 148, 'Boxes': 149, 'Boxes & Chests': 150, 'Boxes & Storage': 151, 'Boxes, Jars & Tins': 152, 'Bracelet': 153, 'Bracelets & Charms': 154, 'Bras & Bra Sets': 155, 'Breast Milk Storage': 156, 'British Airways': 157, 'Brooches & Pins': 158, 'Brushes': 159, 'Brushes, Combs & Rakes': 160, 'Bugles': 161, 'Bulldog, English Bulldog': 162, 'Business Card Holders': 163, 'Business Signs': 164, 'Butter Dishes': 165, 'Butterflies & Moths': 166, 'Buttons & Pins': 167, 'CB Radio Antennas': 168, 'CB Radios': 169, 'CCG Sealed Boxes': 170, 'CCTV Systems': 171, 'CD, DVD & Blu-ray Discs': 172, 'CDs': 173, 'Cabinets & Safes': 174, 'Cables & Adapters': 175, 'Cables & Interconnects': 176, 'Cables, Snakes & Interconnects': 177, 'Calendars': 178, 'Campaigns': 179, 'Campground & RV Parks': 180, 'Camping Knives': 181, 'Camping Meals': 182, 'Camping Storage': 183, 'Candle Holders': 184, 'Candles': 185, 'Candy & Bulk Vending Machines': 186, 'Canopies & Netting': 187, 'Canteens, Bottles & Flasks': 188, 'Car & Truck Covers': 189, 'Car Alarms & Security Systems': 190, 'Car Amplifiers': 191, 'Car Audio In-Dash Units': 192, 'Car Lighting': 193, 'Car Seat Accessories': 194, 'Car Seat Covers': 195, 'Car Speakers & Speaker Systems': 196, 'Car Subwoofers': 197, 'Car Window Signs & Decals': 198, 'Card Games-Contemporary': 199, 'Card Games-Vintage': 200, 'Card Tables & Tabletops': 201, 'Cardinals': 202, 'Cards & Invitations': 203, 'Cards & Postcards': 204, 'Care & Cleaning': 205, 'Cargo Nets, Pet Barriers & Storage Bins': 206, 'Carriers, Slings & Backpacks': 207, 'Cartes de souhaits/invitations': 208, 'Cases': 209, 'Cases, Covers & Skins': 210, 'Cases, Racks & Bags': 211, 'Cash Drawers & Boxes': 212, 'Cassette Adapters': 213, 'Cassette Player Parts & Comp.': 214, 'Cassette Tape Decks': 215, 'Cassettes': 216, 'Cast': 217, 'Cast Member Exclusives': 218, 'Cat Grass & Catnip': 219, 'Cat Treats': 220, \n",
    "    'Catalogs': 221, 'Cellos': 222, 'Center & Overhead Console Parts': 223, 'Central Air Conditioners': 224, 'Chalk': 225, 'Challenge Coins': 226, 'Changing Pads & Covers': 227, 'Changing Tables': 228, 'Characters': 229, 'Chargers & Cradles': 230, 'Chess Accessories': 231, 'Chorus': 232, 'Christmas': 233, 'Christmas Trees': 234, 'Cigar Box Guitars': 235, 'Cigar Cases & Holders': 236, 'Cigarettes': 237, 'Clarinets': 238, 'Classics': 239, 'Cleansers & Toners': 240, 'Cloth Diapers': 241, 'Clothing': 242, 'Clothing & Accessories': 243, 'Clothing & Protective Gear': 244, 'Clothing & Shoes': 245, 'Club Head Covers': 246, 'Coasters': 247, 'Coats, Jackets & Vests': 248, 'Coax. Cables & Connectors': 249, 'Code Keyers & Keys': 250, 'Coffee Grinders': 251, 'Coffee, Tea & Espresso Accessories': 252, 'Coffee, Tea & Espresso Parts': 253, 'Colibri': 254, 'Collars': 255, 'Collars & Tags': 256, 'Collectible Figures & Bobbleheads': 257, 'Comforters & Sets': 258, 'Comics & Graphic Novels': 259, 'Commemorative': 260, 'Compact & Shelf Stereos': 261, 'Compound': 262, 'Compression & Vacuum Testers': 263, 'Concealer': 264, 'Concertinas': 265, 'Connectors & Terminals': 266, 'Contemporary': 267, 'Contemporary Chess': 268, 'Contemporary Manufacture': 269, 'Controllers & Motion Sensors': 270, 'Convertible Car Seat 5-40lbs': 271, 'Cooking Appliance Parts': 272, 'Cooking Utensils': 273, 'Cooktops': 274, 'Corded Telephones': 275, 'Cordless Telephones & Handsets': 276, 'Cords, Cables & Adapters': 277, 'Corgi': 278, 'Corner & Edge Cushions': 279, 'Cornets': 280, 'Cornhole Bag Toss': 281, 'Cosplay Costumes & Accessories': 282, 'Cosplay Costumes & Accs': 283, 'Costumes': 284, 'Cotton Candy Machines': 285, 'Coupons': 286, 'Coyotes': 287, 'Cream & Sugar': 288, 'Credit, Charge Cards': 289, 'Crib Mattresses': 290, 'Crib Toys': 291, 'Cribskirts & Dust Ruffles': 292, 'Cross': 293, 'Crown Royal': 294, 'Crows & Ravens': 295, 'Crucifixes & Crosses': 296, 'Crystals': 297, 'Cup Holders & Snack Trays': 298, 'Cups & Saucers': 299, 'Current Year, Next Year': 300, 'Custom & Handmade': 301, 'Cutters & Scissors': 302, 'Cymbals': 303, 'DC': 304, 'DJ Lighting: Single Units': 305, 'DJ Lighting: Systems & Kits': 306, 'DVD & Blu-ray Players': 307, 'DVD et disques Blu-ray': 308, 'DVDs & Blu-ray Discs': 309, 'Dachshund': 310, 'Dart Boards': 311, 'Dashboard Installation Kits': 312, 'Daypacks': 313, 'Decals & Stickers': 314, 'Decals & Vinyls': 315, 'Decorations': 316, 'Decorative Nursery Pillows': 317, 'Dehydrators': 318, \n",
    "    'Delta': 319, 'Department Stores': 320, 'Developmental Baby Toys': 321, 'Device-Specific Batteries': 322, 'Diaper Bags': 323, 'Diaper Cakes': 324, 'Diaper Covers': 325, 'Diaper Stackers': 326, 'Digital Gifts': 327, 'Digital Pianos': 328, 'Dining Sets': 329, 'Dinner Service Sets': 330, 'Disc Golf Accessories': 331, 'Disc Golf Discs': 332, 'Dishes, Cups & Mugs': 333, 'Dishes, Feeders & Fountains': 334, 'Dishwasher Parts': 335, 'Disneyland Paris': 336, 'Dispensers & Accessories': 337, 'Disposable Boxes, Containers & Trays': 338, 'Disposable Diapers': 339, 'Disposable Face Masks': 340, 'Distilleries': 341, 'Distribution Blocks': 342, 'District of Columbia': 343, 'Divot Tools': 344, 'Doctor Who': 345, 'Dog Chews & Treats': 346, 'Doors & Flaps': 347, 'Dresses': 348, 'Dryers': 349, 'Duduks': 350, 'Dummies & Soothers': 351, 'Dummy Cameras': 352, \"Dungeon Master's Guides\": 353, 'Dungeons & Dragons': 354, 'Duvet Covers & Sets': 355, 'Duvet Inserts': 356, 'Ear Plugs': 357, 'Earrings': 358, 'Educational Toys': 359, 'Electric Breast Pumps': 360, 'Electric Guitars': 361, 'Electrical & Lighting': 362, 'Electrical Switches & Dimmers': 363, 'Electrical Testers, Test Leads': 364, 'Electronic Drums': 365, 'Electronic Games': 366, 'Electronic Keyboards': 367, 'Emblems & Ornaments': 368, 'Enamel Badges': 369, 'Endoscopes': 370, 'Engraving': 371, 'Envelope Bags & Poly Mailers': 372, 'Equalizers': 373, 'Equipment': 374, 'Espresso & Cappuccino Machines': 375, 'Europe': 376, 'Every Other Thing': 377, 'Executive Toys & Gadgets': 378, 'Factory Manufactured': 379, 'Fairings, Plastics & Body Kits': 380, 'Fantasy': 381, 'Favors & Party Bag Fillers': 382, 'Feeding Pillows & Covers': 383, 'Feeding Sets': 384, 'Female': 385, 'Figures & Statues': 386, 'Figures/ Dolls': 387, 'Figurines': 388, 'Figurines, Statues & Busts': 389, 'Film Stock': 390, 'Fine Art Prints': 391, 'Fit Tech Parts': 392, 'Fixed Blade': 393, 'Flags': 394, 'Flashlights': 395, 'Flasks': 396, 'Flight Socks': 397, 'Flights': 398, 'Floor Mats, Carpets & Cargo Liners': 399, 'Floral Décor': 400, 'Flugelhorns': 401, 'Flutes': 402, 'Fly Masks': 403, \n",
    "    'Folding Blade': 404, 'Folding Screens & Backdrops': 405, 'Food Grinders & Blenders': 406, 'Food Storage Bags': 407, 'Foot Creams & Treatments': 408, 'Football-NFL': 409, 'Footmuffs': 410, 'Forms & Record Keeping': 411, 'Formula': 412, 'Formula Coupons': 413, 'Formula Dispensers': 414, 'Fragrances': 415, 'Fraternity & Sorority': 416, 'Fridge Magnets': 417, 'Full Sets': 418, \n",
    "    'Furniture & Scratchers': 419, 'Fuses & Fuse Holders': 420, 'Fuzz': 421, 'GPS & Compasses': 422, 'GPS Antennas': 423, 'GPS Chargers & Batteries': 424, 'GPS Holders & Mounts': 425, 'GPS Screen Protectors': 426, 'GPS Units': 427, 'Game Pieces & Parts': 428, 'Game Pieces, Parts': 429, 'Garage/Shop Tool Chests': 430, 'Geocaching Pathtags': 431, 'Geocoins': 432, 'German Shepherd': 433, 'Gesellschaftsspiele': 434, 'Gift Bags': 435, 'Gift Boxes': 436, 'Gift Cards': 437, 'Gift Certificates': 438, 'Gift Sets': 439, 'Gift Tags & Stickers': 440, 'Gift Wrap': 441, 'Gloves': 442, 'Gloves & Mittens': 443, 'Gobos, Gels, Filters & Lenses': 444, 'Golf Balls': 445, 'Golf Clubs': 446, 'Golf Gloves': 447, 'Golf Tees': 448, 'Golf Towels': 449, 'Golf Visors & Hats': 450, 'Grain Mills': 451, 'Grand & Baby Grand Pianos': 452, 'Gravy Boats': 453, 'Greeting Cards & Gift Tags': 454, 'Greeting Cards & Invitations': 455, 'Grinders': 456, 'Grooming': 457, 'Guinea Pigs': 458, 'Guitar Amplifiers': 459, 'Guitar Building & Luthier Supplies': 460, 'Hair Color': 461, 'Halters': 462, 'Ham Radio Transmitters': 463, 'Hammocks': 464, 'Hand & Foot Warmers': 465, 'Handheld Blenders': 466, 'Handheld Mixers': 467, 'Handmade Pens': 468, 'Handpans': 469, 'Handprint Kits': 470, 'Harmonicas': 471, 'Harnesses': 472, 'Harps & Dulcimers': 473, 'Harry Potter': 474, 'Hats': 475, 'Hats & Caps': 476, 'Hats & Headgear': 477, 'Hats & Headwear': 478, 'Headbands & Hats': 479, 'Headlight Assemblies': 480, 'Headphone Accessories': 481, 'Headphone Parts': 482, 'Headphones': 483, 'Headsets': 484, 'Health & Grooming': 485, 'Hearing Protection Earmuffs': 486, 'High Chairs': 487, 'Hockey-NHL': 488, 'Holiday': 489, 'Holsters': 490, 'Home Fragrance': 491, 'Home Improvement Stores': 492, 'Home Speakers & Subwoofers': 493, 'Home Telephone Parts': 494, 'Home Theater Projectors': 495, 'Home Theater Systems': 496, 'Hooks': 497, 'Horror': 498, 'Humidifiers': 499, 'Hunting Dog Supplies': 500, 'Hydration': 501, 'IP & Smart Security Camera Systems': 502, 'Ice Cream & Frozen Yoghurt Makers': 503, 'Icons': 504, 'Incense & Incense Holders': 505, 'Incense, Herbs & Oils': 506, 'Individual Cards': 507, 'Individual Gauges': 508, 'Indonesia': 509, 'Indy': 510, 'Infant Car Seat 5-20 lbs': 511, 'Instruction Books, CDs & Video': 512, 'Insulators': 513, 'Invitations & Place Cards': 514, 'Invitations & Stationery': 515, 'Iron Kingdoms': 516, 'Jaw Harps': 517, 'Jellycat': 518, 'Jetons de poker': 519, 'Jeux de cartes modernes': 520, 'Jeux de société, traditionnels': 521, 'Jewelry': 522, 'Jewelry & Watches': 523, 'Jigsaw': 524,\n",
    "    'Jokes & Pranks': 525, 'Jouets en peluche pour bébés': 526, 'Juegos de mesa': 527, 'Jugs & Pitchers': 528, 'Juicers': 529, 'Kaleidoscopes': 530, 'Kalimbas': 531, 'Karaoke CDGs, DVDs & Media': 532, 'Karaoke Microphones': 533, 'Karaoke Systems': 534, 'Kazoos': 535, 'Keepsakes': 536, 'Keychains': 537, 'Keyrings': 538, 'Keyrings, Key Fobs & Lanyards': 539, 'Kitchen Scales': 540, 'Knobs, Jacks & Switches': 541, 'Label Guns': 542, 'Lamps': 543, 'Lamps & Shades': 544, 'Land': 545, 'Landscape & Walkway Lights': 546, 'Laserdisc Players': 547, 'Laserdiscs': 548, 'Letter Openers': 549, 'License Plates & Frames': 550, 'Light Bulbs': 551, 'Light Bulbs & LEDs': 552, 'Lighters': 553, 'Lighting Stands & Trusses': 554, 'Lights': 555, 'Lights & Reflectors': 556, 'Limited Editions': 557, 'Lip Balm & Treatments': 558, 'Lip Gloss': 559, 'Lip Stain': 560, 'Lipstick': 561, 'Liquor': 562, 'Little People (1997-Now)': 563, 'Live & Studio Mixers': 564, 'Live Fish': 565, 'Live Plants': 566, 'Lock Boxes': 567, 'Locks': 568, 'Lodging': 569, 'Lord of the Rings': 570, 'Lower Kits & Parts': 571, 'Lubricants': 572, 'Luggage': 573, 'Luggage Scales': 574, 'Luggage Straps': 575, 'Luggage Tags': 576, 'MIDI Keyboards & Controllers': 577, 'Mage Knight': 578, 'Magnets': 579, 'Makeup Bags & Cases': 580, 'Makeup Mirrors': 581, 'Makeup Sets & Kits': 582, 'Male': 583, 'Malerei': 584, 'Manuals & Magazines': 585, 'Manuals & Resources': 586, 'Marvel': 587, 'Masks': 588, 'Masks & Eye Masks': 589, 'Massagers': 590, 'Mats & Rugs': 591, 'Mattress Pads & Covers': 592, 'MechWarrior': 593, 'Mechanical': 594, 'Mechanical Banks': 595, 'Medals': 596, 'Media Cases & Storage': 597, 'Media Streamers': 598, 'Memorabilia': 599, 'Men': 600, \"Men's Fragrances\": 601, \"Men's Shavers\": 602, 'Merchandise & Memorabilia': 603, 'Merchandise Bags': 604, 'Mezuzahs, Scrolls': 605, 'Michelin': 606, 'Microphones': 607, 'Microphones & Wireless Systems': 608, 'Mighty Beanz': 609, 'Mini Fridges': 610, 'Miniatures': 611, 'Mixed Lots': 612, 'Mixed Media Art & Collage Art': 613, 'Mobiles': 614, 'Modern (1970-Now)': 615, 'Modern Manufacture': 616, 'Moisturizers': 617, 'Money Belts & Wallets': 618, 'Monster Manuals': 619, 'Moses Baskets': 620, 'Mother of the Bride': 621, 'Motor Oil': 622, 'Motorcycle & Powersport Helmets': 623, 'Mounted': 624, 'Mounts & Assembly Hardware': 625, 'Mounts & Holders': 626, 'Movies, Television': 627, 'Mugs': 628, 'Mugs/ Coasters': 629, 'Multi-Tools': 630, 'Multipurpose AC to DC Adapters': 631, 'Music & Art': 632, 'Music Boxes': 633, 'Music Stands': 634, 'Music, Musicians': 635, 'Nail Art Tools': 636, 'Nail Polish': 637, 'Napkins': 638, 'Nativity Items': 639, 'Necklaces & Pendants': 640, 'Nescafe': 641, 'New York': 642, 'Night Lights': 643, 'Nightmare Before Christmas': 644, 'Non-Country Specific': 645, 'Non-Topographical Postcards': 646, 'North America': 647, \n",
    "    'Novelties': 648, 'Novelties & Gifts': 649, 'Nursery Bedding Sets': 650, 'Nursing Covers/Blankets': 651, 'Nursing Pads': 652, 'Nutcrackers': 653, 'Ocarinas': 654, 'Openers': 655, 'Organizers & Nets': 656, 'Original': 657, 'Originals': 658, 'Originals - UK Minis': 659, 'Ornaments': 660, 'Other': 661, 'Other 40K Items': 662, 'Other Accessories': 663, 'Other Animal Collectibles': 664, 'Other Animation Merchandise': 665, 'Other Apparel, Protective Gear & Merchandise': 666, 'Other Art': 667, 'Other Auto Tools & Supplies': 668, 'Other Automobilia': 669, 'Other Automotive Accessories & Merchandise': 670, 'Other Automotive Hand Tools': 671, 'Other Aviation Collectibles': 672, 'Other Baby': 673, 'Other Baby Bathing & Grooming': 674, 'Other Baby Dishes': 675, 'Other Baby Gear': 676, 'Other Baby Keepsakes': 677, 'Other Baby Proofing': 678, 'Other Baby Safety & Health': 679, 'Other Baby Toys': 680, 'Other Backyard Games': 681, 'Other Bakeware & Ovenware': 682, 'Other Baking Accessories': 683, 'Other Baseball Clothing & Accs': 684, 'Other Basketball': 685, 'Other Beer Tap Handles, Knobs': 686, 'Other Bird Supplies': 687, 'Other Bottle Feeding': 688, 'Other Boy Scout Collectibles': 689, 'Other Brass': 690, 'Other Brass Instruments': 691, 'Other Breastfeeding Supplies': 692, 'Other Breweriana': 693, 'Other Buddhism Collectibles': 694, 'Other Car & Truck Parts & Accessories': 695, 'Other Car Alarms & Security': 696, 'Other Car Audio': 697, 'Other Car Electronics Accs': 698, 'Other Car Video': 699, 'Other Card Games & Poker': 700, 'Other Cartoon Character Pez': 701, 'Other Cat Collectables': 702, 'Other Cat Collectibles': 703, 'Other Cat Supplies': 704, 'Other Celebrations & Occasions': 705, 'Other Chess': 706, 'Other Chinese Collectibles': 707, 'Other Christian Collectibles': 708, 'Other Civil War Original Items': 709, 'Other Classic Toys': 710, 'Other Coffee, Tea & Espresso Makers': 711, 'Other Collectable Items': 712, 'Other Collectible Ballpoint': 713, 'Other Collectible Lighters': 714, 'Other Collectible Lighting': 715, 'Other Collectible Pencils': 716, 'Other Collectible Pens': 717, 'Other Collectible Pinbacks': 718, 'Other Collectible Pipes': 719, 'Other Comic Books & Memorabilia': 720, 'Other Consumer Electronics': 721, 'Other Contemp Holiday Disney': 722, 'Other Contemporary Disney': 723, 'Other Cookware': 724, 'Other Cruise Ship Collectibles': 725, 'Other Current Pez Collectibles': 726, 'Other Cycling': 727, 'Other DJ Equipment': 728, 'Other Decorative Collectibles': 729, 'Other Desktop Collectibles': 730, 'Other Diapering': 731, 'Other Dinnerware & Serveware': 732, 'Other Disney Bags & Cases': 733, 'Other Disney Pins & Patches': 734, 'Other Disneyana': 735, 'Other Distillery Memorabilia': 736, 'Other Dog Collectibles': 737, 'Other Dog Grooming': 738, 'Other Dog Supplies': 739, 'Other Dungeons & Dragons': 740, 'Other Electronics': 741, 'Other Elvis Presley Mem': 742, 'Other Envelopes & Mailers': 743, 'Other Equipment': 744, 'Other Exterior Parts & Accessories': 745, 'Other Fantasy Collectibles': 746, 'Other Film Memorabilia': 747, 'Other Firefighting & Rescue': 748, 'Other Fishing': 749, 'Other Fishing Equipment': 750, 'Other Fitness, Running & Yoga': 751, 'Other Folk & World Drums': 752, 'Other Food & Beverage Ads': 753, 'Other Football': 754, 'Other Formats': 755, 'Other Fountain Pens': 756, 'Other Frog Collectibles': 757, 'Other Games': 758, 'Other General Accessories': 759, \n",
    "    'Other Gift Wrapping & Supplies': 760, 'Other Gift Wrapping Supplies': 761, 'Other Glassware & Drinkware': 762, 'Other Golf': 763, 'Other Golf Accessories': 764, 'Other Golf Club Components': 765, 'Other Guitar & Bass Accessories': 766, 'Other Guitar & Bass Parts': 767, 'Other Guitars': 768, 'Other Hand Percussion': 769, 'Other Health & Beauty': 770, 'Other Healthcare, Lab & Dental': 771, 'Other Hockey Clothing': 772, 'Other Holiday Collectibles': 773, 'Other Home Décor': 774, 'Other Home Stereo Components': 775, 'Other Horse Memorabilia': 776, 'Other Horse Wear': 777, 'Other Hunting': 778, 'Other Hunting Accessories': 779, 'Other Interior Parts & Accessories': 780, 'Other Islam Collectibles': 781, 'Other Japanese Collectibles': 782, \n",
    "    'Other Japanese WWII Orig Items': 783, 'Other Lighting & Lamps': 784, 'Other Luggage Accessories': 785, 'Other Luggage, Racks & Storage': 786, 'Other Major Appliances': 787, 'Other Martial Arts Weapons': 788, \"Other McDonald's Ads\": 789, 'Other Memorabilia': 790, 'Other Mineral Specimens': 791, 'Other Miniatures': 792, 'Other Miniatures & War Games': 793, 'Other Motorcycle Maintenance, Stands & Towing': 794, 'Other Multipurpose Batteries': 795, 'Other Music Memorabilia': 796, 'Other Musical Instruments': 797, 'Other Natural Remedies': 798, 'Other Non-Sport Trading Card Merchandise': 799, 'Other Nursery Bedding': 800, 'Other Nursery Décor': 801, 'Other Nursery Wall Décor': 802, 'Other Office': 803, 'Other Office Desk Accessories': 804, 'Other Office Paper Products': 805, 'Other Office Supplies': 806, 'Other Outdoor Sports': 807, 'Other Outdoor Survival Gear': 808, 'Other Outdoor Toys, Structures': 809, 'Other Packing & Shipping Bags': 810, 'Other Parts': 811, 'Other Party Supplies': 812, 'Other Patches': 813, 'Other Percussion': 814, 'Other Percussion Accessories': 815, 'Other Perfume Collectibles': 816, 'Other Pianos & Keyboards': 817, 'Other Pop Memorabilia': 818, 'Other Portable Audio Accs': 819, 'Other Pots & Pans': 820, 'Other Printing & Graphic Arts': 821, 'Other Pro Audio Equipment': 822, 'Other Props': 823, 'Other RC Parts & Accs': 824, 'Other RV, Trailer & Camper Parts & Accessories': 825, 'Other Racquet Sport Accs': 826, 'Other Radio Antennas': 827, 'Other Radio Communication': 828, 'Other Radio Communication Accs': 829, 'Other Retail Jewelry Packaging': 830, 'Other Riding Boots & Accs': 831, 'Other Rock Memorabilia': 832, 'Other Rocks, Fossils, Minerals': 833, 'Other Role Playing Games': 834, 'Other Sci-Fi Collectibles': 835, 'Other Scrapbooking Supplies': 836, 'Other Scuba & Snorkeling': 837, 'Other Sensory Toys': 838, 'Other Small Appliances': 839, 'Other Smart Home Electronics': 840, 'Other Sporting Goods': 841, 'Other Stage Lighting & Effects': 842, 'Other Star Wars Collectibles': 843, 'Other Star Wars Mini Games': 844, 'Other Stroller Accessories': 845, 'Other Surveillance Parts & Accessories': 846, 'Other TV Memorabilia': 847, 'Other TV, Video & Audio Accs': 848, 'Other TV, Video & Audio Parts': 849, 'Other TV, Video & Home Audio': 850, 'Other Taxidermy': 851, 'Other Tennis & Racquet Sports': 852, 'Other Tobacciana': 853, 'Other Toys for Baby': 854, 'Other Training Equipment': 855, 'Other Travel': 856, 'Other Travel Accessories': 857, 'Other Travel Maps': 858, 'Other Travel Memorabilia': 859, 'Other US Politics Collectibles': 860, 'Other Vanity Collectibles': 861, 'Other Vehicle Electronics': 862, 'Other Vintage A/V Parts & Accs': 863, 'Other Vintage Audio & Video': 864, 'Other Vintage Brass': 865, 'Other Vintage Electronics': 866, 'Other Vintage Greeting Cards': 867, 'Other Vintage Guitars': 868, 'Other Vintage String': 869, 'Other Virtual Reality Accs': 870, 'Other WFB Items': 871, 'Other Warhammer': 872, 'Other Warmachine & Hordes': 873, 'Other Welding Materials': 874, 'Other Writing Collectibles': 875, 'Other Zippo Lighters': 876, 'Ouds': 877, 'Outlet Covers': 878, 'PC & Console VR Headsets': 879, 'Pacifier Clips & Cases': 880, 'Pacifiers & Soothers': 881, 'Packing Paper': 882, 'Packing Peanuts': 883, 'Padded Envelopes': 884, 'Pagers': 885, 'Paintings': 886, 'Papers': 887, 'Paperweights': 888, 'Paracord & Paracord Supplies': 889, 'Parker': 890, 'Party Decorations': 891, 'Party Gags & Tricks': 892, 'Party Games & Activities': 893, 'Passport & ID Holders': 894, 'Patches': 895, 'Patriotic': 896, 'Pendants & Pins': 897, 'Pens & Pencils': 898, 'Pens & Writing Instruments': 899, 'Percolators & Moka Pots': 900, 'Personal CD Players': 901, 'Personal Cassette Players': 902, 'Personal MiniDisc Recorders': 903, 'Personal, Field Gear': 904, 'Pet Memorials & Urns': 905, 'Pewter': 906, 'Pflege- & Reinigungsmittel': 907, 'Photographs': 908, 'Pianola/Player Piano Rolls': 909, 'Pickguards': 910, 'Picks': 911, 'Picture Frames': 912, 'Pillow Shams': 913, 'Pillowcases': 914, 'Pillowcases & Shams': 915, 'Pillows': 916, 'Pins & Buttons': 917, 'Pirates CSG': 918, 'Plain Envelopes': 919, 'Planners & Organizers': 920, 'Plaques & Signs': 921, 'Plastic Action Games': 922, 'Plastic Discs': 923, 'Plates': 924, 'Plates & Plaques': 925, 'Platters': 926, 'Play Shades & Tents': 927, 'Player Piano Rolls': 928, \"Player's Handbooks\": 929, 'Players & Mic-Based Players': 930, 'Playing Cards': 931, 'Playpens & Play Yards': 932, 'Plush Baby Toys': 933, 'Plush Items': 934, 'Plush Toys': 935, 'Pocket Money Toys & Games': 936, 'Poker & Playing Cards': 937, 'Poker Chips': 938, 'Poker et cartes à jouer': 939, 'Polishes & Cleaners': 940, 'Portable AM/FM Radios': 941, 'Portable Fans': 942, 'Portable Satellite Radios': 943, 'Portable Stereos & Boomboxes': 944, 'Postcard Supplies & Accs': 945, 'Postcards': 946, 'Posters': 947, 'Posters & Prints': 948, 'Posters, Prints & Pictures': 949, 'Pottery': 950, 'Potty Training': 951, 'Power & Speaker Wire': 952, 'Power Cables & Connectors': 953, 'Power Inverters': 954, 'Power Supplies': 955, 'Pre-1970': 956, 'Presidential Candidates': 957, 'Presidents & First Ladies': 958, 'Pressbooks/ Press Kits': 959, 'Price Tags': 960, 'Projection Screens & Material': 961, 'Projector Lamps & Components': 962, 'Projector Mounts & Stands': 963, 'Promotional Items': 964, 'Protective Gear': 965, 'Punching Bags': 966, 'Quilt Covers': 967, 'Quilts': 968, 'Quilts & Coverlets': 969, 'Quilts, Bedspreads & Coverlets': 970, 'Racing-NASCAR': 971, 'Rail': 972, 'Ral Partha': 973, 'Ranges & Stoves': 974, 'Rattles': 975, 'Reaper': 976, 'Rear View Monitors/Cams & Kits': 977, 'Rear-Projection TV Lamps': 978, 'Receivers': 979, 'Rechargeable Batteries': 980, 'Reclosable & Zipper Bags': 981, 'Record Player, Turntable Parts': 982, 'Record Players/Home Turntables': 983, 'Recorders': 984, 'Red Dot & Laser': 985, 'Reeds': 986, 'Reel-to-Reel Tape Recorders': 987, 'Refrigerator & Freezer Parts': 988, 'Refrigerator Magnets': 989, 'Refrigerators': 990, 'Religious': 991, 'Remote Controls': 992, 'Remote Start & Entry Systems': 993, 'Remotes': 994, 'Replacement Bulbs & Lamps': 995, 'Replacement Parts & Tools': 996, 'Reproduction': 997, 'Resistance Trainers': 998, 'Ribbon': 999, 'Ribbons & Bows': 1000, 'Rice Cookers': 1001, 'Rifle Parts': 1002, 'Rifle Scopes': 1003, 'Rifts': 1004, 'Rings': 1005, 'Rockers, Gliders': 1006, 'Rod Building & Repair': 1007, 'Role Playing Games': 1008, 'Rosaries': 1009, 'Rotring': 1010, 'Rottweiler': 1011, 'Roulette Wheels, Sets': 1012, 'Runes & Stones': 1013, 'Running Boards & Step Bars': 1014, 'Saddle Bags': 1015, 'Saddle Pads': 1016, 'Safety Gates': 1017, 'Salt & Pepper': 1018, 'Samplers & Sequencers': 1019, 'Satellite Dishes': 1020, 'Sci-Fi/ Fantasy': 1021, 'Science Fiction': 1022, 'Scotch': 1023, 'Scottish Terrier': 1024, 'Scrapbooking Stickers': 1025, 'Screwdrivers': 1026, 'Sculptures & Figurines': 1027, 'Sealed Trading Card Packs': 1028, 'Seat Covers': 1029, 'Seat Liners': 1030, 'Seats & Chairs': 1031, 'Security Camera Brackets & Mounts': 1032, 'Security Camera Cables & Adapters': 1033, 'Security Cameras': 1034, 'Sensors & Motion Detectors': 1035, 'Sets & Kits': 1036, 'Sexual Remedies & Supplements': 1037, 'Shakers & Small Percussion': 1038, 'Shampoos & Soaps': 1039, 'Shaving Sets': 1040, 'Sheets': 1041, 'Sheets & Sets': 1042, 'Shift Knobs': 1043, 'Shipping & Moving Boxes': 1044, 'Shirts & Tops': 1045, 'Shopping Cart Covers': 1046, 'Shot Glasses': 1047, 'Shotgun Parts': 1048, 'Shrink Wrap': 1049, 'Signs': 1050, 'Signs & Plaques': 1051, 'Single Flatware Pieces': 1052, 'Single Use Batteries': 1053, 'Sippy Cups & Mugs': 1054, 'Skin & Coat Care': 1055, 'Skin Care': 1056, 'Sleds & Snow Tubes': 1057, 'Sleeping Bags & Sleepsacks': 1058, 'Slides': 1059, 'Slipmats': 1060, 'Small Animals': 1061, 'Small Kitchen Appliance Accessories': 1062, 'Smart Glasses': 1063, 'Smart Home Hubs': 1064, 'Smart Light Bulbs': 1065, 'Smart Plugs': 1066, 'Smart Speakers': 1067, 'Smartphone VR Headsets': 1068, 'Snare Drums': 1069, 'Snow Globes': 1070, 'Snow Pants & Bibs': 1071, 'Snow Plows & Parts': 1072, 'Snowsuits': 1073, 'Snuff Boxes': 1074, 'Sockets & Socket Sets': 1075, 'Socks': 1076, 'Soda Makers': 1077, 'Soft Toys': 1078, 'Southwest': 1079, 'Souvenirs, Travel': 1080, 'Space Shuttles': 1081, 'Speaker Boxes': 1082, 'Speaker Mounts & Stands': 1083, 'Speaker/Sub. Grills & Accs': 1084, 'Speakers': 1085, 'Sponges, Applicators & Cotton': 1086, 'Sports': 1087, 'Squirrels': 1088, 'Stage Lighting: Single Units': 1089, 'Standard Toothbrushes': 1090, 'Stands': 1091, 'Stands & Hangers': 1092, 'Stands, Hangers & Plaques': 1093, 'Stands, Mounts & Holders': 1094, 'Starbucks': 1095, 'Stationery': 1096, 'Statues & Figures': 1097, 'Steering Wheel Covers': 1098, 'Stickers & Decals': 1099,\n",
    "    'Sticks, Brushes & Mallets': 1100, 'Stockings & Hangers': 1101, 'Store Displays': 1102, 'Straps': 1103, 'String Lights': 1104, 'String Lights, Fairy Lights': 1105, 'Strings': 1106, 'Stroller Boards': 1107, 'Sun Visors': 1108, 'Super Hero': 1109, 'Surveillance Illuminators': 1110, 'Surveillance Monitors & Displays': 1111, 'Sweatbands': 1112, 'Swim Diapers': 1113, 'Switches & Controls': 1114, 'Swizzle/Stir Sticks': 1115, 'TV Boards, Parts & Components': 1116, 'TV Stands & Mounts': 1117, 'TV, Film & Game Replica Blades': 1118, 'TVs': 1119, 'Table Décor & Serving Pieces': 1120, 'Tackle Boxes & Bags': 1121, 'Tactical Patches': 1122, 'Tactical, Molle Pouches': 1123, 'Tags & Charms': 1124, 'Tambourines': 1125, 'Tape Dispensers': 1126, 'Tarot Cards & Bags': 1127, 'Tea Infusers': 1128, 'Tea Towels/Dishcloths': 1129, 'Teapots': 1130, 'Teethers': 1131, 'Telephone Headsets': 1132, 'Terrain & Scenery': 1133, 'Texas': 1134, 'Textile Art & Fiber Art': 1135, 'Theme Park Souvenirs': 1136, 'Thigh Exercisers': 1137, 'Third Reich (1933-45)': 1138, 'Tim Horton’s': 1139, 'Timeshares for Sale': 1140, 'Tins': 1141, 'Toddler Safety Harnesses': 1142, 'Tools, Scissors & Measures': 1143,\n",
    "    'Tooth Fairy Pillows': 1144, 'Topographical Postcards': 1145, 'Tops & Shirts': 1146, 'Totally Bizarre': 1147, 'Towels & Washcloths': 1148, 'Towels, Washcloths': 1149, 'Toys': 1150, 'Toys, Games & Puzzles': 1151, 'Tracking Devices': 1152, 'Trading Card Singles': 1153, 'Trailer Hitches': 1154, 'Training Aids': 1155, 'Transfers': 1156, 'Transmitters': 1157, 'Travel Pillows': 1158, 'Trays': 1159, 'Tree Toppers': 1160, 'Triathlon': 1161, 'Tricks': 1162, 'Triumph': 1163, 'Trivets': 1164, 'Trombones': 1165, 'Trophies': 1166, 'Trumpets': 1167, 'Tuning Pegs': 1168, 'Turntable Parts': 1169, 'Tweeters': 1170, 'US': 1171, 'Ukuleles': 1172, 'Unisex Cycling Shoes': 1173, 'Unisex Fragrances': 1174, 'United States': 1175, 'Unused Vintage': 1176, 'Upright & Chest Freezers': 1177, 'Upright Basses': 1178, 'Utensils': 1179, 'VHS Tapes': 1180, 'VHS Video Tapes': 1181, 'Vacuum Cleaners': 1182, 'Valve Stems & Caps': 1183, 'Video Cables & Interconnects': 1184, 'Video Glasses': 1185, 'Video In-Dash Units w/o GPS': 1186, 'Video Media Accessories': 1187, 'Villages & Houses': 1188, 'Vintage': 1189, 'Vintage & Antique': 1190, 'Vintage (1920-1980)': 1191, 'Vintage Blank Media': 1192, 'Vintage Calculators': 1193, 'Vintage Cassette Decks': 1194, 'Vintage Chess': 1195, 'Vintage Headphones': 1196, 'Vintage Luggage & Travel Accs': 1197, 'Vintage Manuals': 1198, 'Vintage Manufacture': 1199, 'Vintage Radios': 1200, 'Vintage Stereo Receivers': 1201, 'Vintage Televisions': 1202, 'Vintage Tubes & Tube Sockets': 1203, 'Vinyl Records': 1204, 'Violas': 1205, 'Violins': 1206, 'Vitamins & Minerals': 1207, 'Vizsla': 1208, 'WFB Miniatures': 1209, 'WFB Rulebooks & Publications': 1210, 'WFB Terrain & Scenery': 1211, 'Waffle House': 1212, 'Waist Packs & Bags': 1213, 'Walkers': 1214, 'Walkie Talkies, Two-Way Radios': 1215, 'Walking & Trekking Sticks': 1216, 'Wall Art & Posters': 1217, 'Wall Decals & Vinyl Art': 1218, 'Wall Décor': 1219, 'Wall Hangings': 1220, 'Wall Letters': 1221, 'Wallets': 1222, 'Wallpaper Borders': 1223, 'Walt Disney World': 1224, 'War at Sea': 1225, 'Warmachine': 1226, 'Washer & Dryer Parts': 1227, 'Washing Machines': 1228, 'Water Bottles': 1229, 'Water Filters': 1230, 'Wedding Favours': 1231, 'Western': 1232, 'Western Show Accessories': 1233, 'Whelping Supplies': 1234, 'White Star & Titanic': 1235, 'Wholesale Lots': 1236, 'Window Treatments': 1237, 'Wine Fridges & Cellars': 1238, \"Women's Bags & Handbags\": 1239, \"Women's Fragrances\": 1240, 'Wooden Toys': 1241, 'World of Warcraft': 1242, 'Wreaths, Garlands & Plants': 1243, 'Yard Décor': 1244, 'Yorkshire Terrier': 1245, 'Youth': 1246, 'Youth Skates': 1247, 'iPods & MP3 Players': 1248\n",
    "}"
   ]
  },
  {
   "cell_type": "code",
   "execution_count": 20,
   "id": "020d556b",
   "metadata": {},
   "outputs": [],
   "source": [
    "# (3)feature Shipping type mapping\n",
    "Shipping_Type = {\n",
    "    'Calculated': 0,\n",
    "    'CalculatedDomesticFlatInternational': 1,\n",
    "    'Flat': 2,\n",
    "    'FlatDomesticCalculatedInternational': 3,\n",
    "    'Free': 4,\n",
    "    'FreePickup': 5,\n",
    "    'Freight': 6,\n",
    "    'NotSpecified': 7\n",
    "}"
   ]
  },
  {
   "cell_type": "code",
   "execution_count": 26,
   "id": "79c399bd",
   "metadata": {},
   "outputs": [],
   "source": [
    "# (4)feature Listing type mapping\n",
    "Listing_Type = {'Auction': 0, 'AuctionWithBIN': 1, 'FixedPrice': 2, 'StoreInventory': 3}"
   ]
  },
  {
   "cell_type": "code",
   "execution_count": 29,
   "id": "25328b58",
   "metadata": {},
   "outputs": [],
   "source": [
    "# (5)feature Shipping_Listing type mapping\n",
    "Shipping_Listing_Type = {\n",
    "    'CalculatedDomesticFlatInternational_Auction': 0, 'CalculatedDomesticFlatInternational_FixedPrice': 1,\n",
    "    'Calculated_Auction': 2, 'Calculated_AuctionWithBIN': 3, 'Calculated_FixedPrice': 4,\n",
    "    'Calculated_StoreInventory': 5, 'FlatDomesticCalculatedInternational_Auction': 6,\n",
    "    'FlatDomesticCalculatedInternational_AuctionWithBIN': 7, 'FlatDomesticCalculatedInternational_FixedPrice': 8,\n",
    "    'FlatDomesticCalculatedInternational_StoreInventory': 9, 'Flat_Auction': 10, 'Flat_AuctionWithBIN': 11,\n",
    "    'Flat_FixedPrice': 12, 'Flat_StoreInventory': 13, 'FreePickup_Auction': 14, 'FreePickup_AuctionWithBIN': 15,\n",
    "    'FreePickup_FixedPrice': 16, 'FreePickup_StoreInventory': 17, 'Free_Auction': 18, 'Free_AuctionWithBIN': 19, \n",
    "    'Free_FixedPrice': 20, 'Free_StoreInventory': 21, 'Freight_FixedPrice': 22, 'NotSpecified_FixedPrice': 23}"
   ]
  },
  {
   "cell_type": "markdown",
   "id": "25ddbb07",
   "metadata": {},
   "source": [
    "# 5.Other Inputs"
   ]
  },
  {
   "cell_type": "code",
   "execution_count": 30,
   "id": "c40b9324",
   "metadata": {},
   "outputs": [],
   "source": [
    "# (1) Positive Feedback: Numerical, from 0 to 100"
   ]
  },
  {
   "cell_type": "code",
   "execution_count": 32,
   "id": "3a57a984",
   "metadata": {},
   "outputs": [],
   "source": [
    "# (2) Shipping Cost: Numerical, >= 0"
   ]
  },
  {
   "cell_type": "code",
   "execution_count": 33,
   "id": "158e1462",
   "metadata": {},
   "outputs": [],
   "source": [
    "# (3) Feedback Score: Numerical,>= 0"
   ]
  },
  {
   "cell_type": "code",
   "execution_count": 36,
   "id": "e052702d",
   "metadata": {},
   "outputs": [],
   "source": [
    "# (4) Feedback_Quality:\n",
    "# Interaction feature;\n",
    "# combined_df['Feedback_Quality'] = combined_df['Feedback Score'] * (combined_df['Positive Feedback %'] / 100)\n",
    "# in here, we just mutiple the two features we get from user:Feedback Score &Positive Feedback "
   ]
  },
  {
   "cell_type": "code",
   "execution_count": 35,
   "id": "014a4f13",
   "metadata": {},
   "outputs": [],
   "source": [
    "# (5)Price_in_USD: Numerical,>= 0"
   ]
  },
  {
   "cell_type": "code",
   "execution_count": 37,
   "id": "cfecc069",
   "metadata": {},
   "outputs": [],
   "source": [
    "# (6)Price_Condition: \n",
    "# Interaction feature;\n",
    "# combined_df['Price_Condition'] = combined_df['Price_in_USD'] * combined_df['Condition'].map({'New': 1, 'Almost New': 0.9, 'Used': 0.7, 'Defective': 0.5, 'Unknown': 0.3})\n",
    "# in here, we just mutiple the two features we get from user:Price_in_USD & Condition "
   ]
  },
  {
   "cell_type": "code",
   "execution_count": 38,
   "id": "202b9453",
   "metadata": {},
   "outputs": [],
   "source": [
    "# (7)Is_Trusted_Seller:\n",
    "# Interaction feature;\n",
    "# combined_df['Is_Trusted_Seller'] = combined_df['Top Rated Seller'].astype(int) * combined_df['Feedback_Quality']\n",
    "# in here, we just mutiple the one feature we get from user:Top Rated Seller & another interactive feature: Feedback_Quality"
   ]
  },
  {
   "cell_type": "code",
   "execution_count": 39,
   "id": "a2075f30",
   "metadata": {},
   "outputs": [],
   "source": [
    "# (8)Store URL_flag: True:1, Faise:0"
   ]
  },
  {
   "cell_type": "code",
   "execution_count": null,
   "id": "cacd8c30",
   "metadata": {},
   "outputs": [],
   "source": []
  },
  {
   "cell_type": "code",
   "execution_count": null,
   "id": "0cc518b7",
   "metadata": {},
   "outputs": [],
   "source": []
  }
 ],
 "metadata": {
  "kernelspec": {
   "display_name": "Python 3 (ipykernel)",
   "language": "python",
   "name": "python3"
  },
  "language_info": {
   "codemirror_mode": {
    "name": "ipython",
    "version": 3
   },
   "file_extension": ".py",
   "mimetype": "text/x-python",
   "name": "python",
   "nbconvert_exporter": "python",
   "pygments_lexer": "ipython3",
   "version": "3.11.8"
  }
 },
 "nbformat": 4,
 "nbformat_minor": 5
}
